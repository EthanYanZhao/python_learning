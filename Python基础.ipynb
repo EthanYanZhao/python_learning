{
 "cells": [
  {
   "cell_type": "markdown",
   "metadata": {
    "heading_collapsed": true
   },
   "source": [
    "# jupyter notebook使用技巧"
   ]
  },
  {
   "cell_type": "markdown",
   "metadata": {
    "hidden": true
   },
   "source": [
    "## markdown技巧"
   ]
  },
  {
   "cell_type": "markdown",
   "metadata": {
    "hidden": true
   },
   "source": [
    "（1）*markdown模式换行*：中间隔一行；\n",
    "\n",
    "（2）*markdown模式缩进*：使用Tab键缩进；\n",
    "\n",
    "（3）使用转义符“\\\\\\_”来显示下划线\\_;"
   ]
  },
  {
   "cell_type": "markdown",
   "metadata": {
    "hidden": true
   },
   "source": [
    "## jupyter notebook魔术命令"
   ]
  },
  {
   "cell_type": "markdown",
   "metadata": {
    "hidden": true
   },
   "source": [
    "（1）在cell首行加上%%writefile filename.py 便会在当前工作目录下创建一个名为filename.py文件，例如："
   ]
  },
  {
   "cell_type": "code",
   "execution_count": null,
   "metadata": {
    "hidden": true
   },
   "outputs": [],
   "source": [
    "%%writefile myprint.py\n",
    "#创建一个myprint.py的python文件\n",
    "name_list = ['zhao', 'yan', 'ethan']\n",
    "\n",
    "for name in name_list:\n",
    "    print(name)"
   ]
  },
  {
   "cell_type": "code",
   "execution_count": null,
   "metadata": {
    "hidden": true
   },
   "outputs": [],
   "source": [
    "print('hello python world!')\n"
   ]
  },
  {
   "cell_type": "code",
   "execution_count": null,
   "metadata": {
    "hidden": true
   },
   "outputs": [],
   "source": [
    "for a in range(10):\n",
    "    print(a)\n",
    "    "
   ]
  },
  {
   "cell_type": "code",
   "execution_count": null,
   "metadata": {
    "hidden": true
   },
   "outputs": [],
   "source": [
    "message = 'hello python world!'\n",
    "print(message)\n",
    "\n",
    "message = 'hello python crash course world'\n",
    "print(message)\n"
   ]
  },
  {
   "cell_type": "code",
   "execution_count": null,
   "metadata": {
    "hidden": true
   },
   "outputs": [],
   "source": [
    "message = 'I told my friend \"Python is my favorite language\"'\n",
    "print (message)\n"
   ]
  },
  {
   "cell_type": "code",
   "execution_count": null,
   "metadata": {
    "hidden": true
   },
   "outputs": [],
   "source": [
    "print(\"one of python's strength\")\n"
   ]
  },
  {
   "cell_type": "markdown",
   "metadata": {
    "heading_collapsed": true
   },
   "source": [
    "# 处理字符串的一些函数"
   ]
  },
  {
   "cell_type": "markdown",
   "metadata": {
    "hidden": true
   },
   "source": [
    "## upper()、lower()、title()函数"
   ]
  },
  {
   "cell_type": "code",
   "execution_count": null,
   "metadata": {
    "hidden": true
   },
   "outputs": [],
   "source": [
    "name = 'Ada lovelace'\n",
    "print(name.title())\n",
    "print(name.upper())\n",
    "print(name.lower())\n"
   ]
  },
  {
   "cell_type": "code",
   "execution_count": null,
   "metadata": {
    "hidden": true
   },
   "outputs": [],
   "source": [
    "firstName = 'ada'\n",
    "lastName = 'lovelace'\n",
    "name = firstName + \" \" + lastName\n",
    "print(name.title())\n",
    "print('Hello, ' + name.title() + '!')\n",
    "\n",
    "message = 'Hello, ' + name.title() + '!'\n",
    "print(message)"
   ]
  },
  {
   "cell_type": "markdown",
   "metadata": {
    "hidden": true
   },
   "source": [
    "## 空格键\\t，换行符\\n"
   ]
  },
  {
   "cell_type": "code",
   "execution_count": null,
   "metadata": {
    "hidden": true
   },
   "outputs": [],
   "source": [
    "print('\\tpython')\n",
    "print('language:\\npython\\nc\\nJavaScript')\n"
   ]
  },
  {
   "cell_type": "markdown",
   "metadata": {
    "hidden": true
   },
   "source": [
    "## rstrip()函数"
   ]
  },
  {
   "cell_type": "markdown",
   "metadata": {
    "hidden": true
   },
   "source": [
    "注：‘rstrip()’函数可用来去除字符串两端空格的函数，但不能去除字符串中间的空格。"
   ]
  },
  {
   "cell_type": "code",
   "execution_count": null,
   "metadata": {
    "hidden": true
   },
   "outputs": [],
   "source": [
    "favorite_language = 'python '\n",
    "favorite_language\n",
    "favorite_language.rstrip()\n",
    "favorite_language\n"
   ]
  },
  {
   "cell_type": "code",
   "execution_count": null,
   "metadata": {
    "hidden": true
   },
   "outputs": [],
   "source": [
    "favorite_language = 'python '\n",
    "favorite_language = favorite_language.rstrip()\n",
    "favorite_language"
   ]
  },
  {
   "cell_type": "code",
   "execution_count": null,
   "metadata": {
    "hidden": true,
    "scrolled": true
   },
   "outputs": [],
   "source": [
    "words = 'Py thon '\n",
    "words.rstrip()\n"
   ]
  },
  {
   "cell_type": "markdown",
   "metadata": {
    "hidden": true
   },
   "source": [
    "## str()函数"
   ]
  },
  {
   "cell_type": "code",
   "execution_count": null,
   "metadata": {
    "hidden": true
   },
   "outputs": [],
   "source": [
    "age = 23\n",
    "message = 'Happy ' + str(age) + ' birthday!'\n",
    "print(message)\n"
   ]
  },
  {
   "cell_type": "markdown",
   "metadata": {
    "hidden": true
   },
   "source": [
    "## list的索引方式"
   ]
  },
  {
   "cell_type": "code",
   "execution_count": null,
   "metadata": {
    "hidden": true
   },
   "outputs": [],
   "source": [
    "bicycles = ['trek', 'cannodale', 'redline', 'specialized']\n",
    "print(bicycles)\n",
    "print(bicycles[0].title())\n",
    "print(bicycles[-1].title())\n",
    "message = 'My first bicycle is ' + bicycles[0].title() + '.'\n",
    "print(message)\n"
   ]
  },
  {
   "cell_type": "code",
   "execution_count": null,
   "metadata": {
    "hidden": true
   },
   "outputs": [],
   "source": [
    "brand = ['honda', 'yamaha', 'jeda', 'toyota']\n",
    "trans = ['car', 'bus', 'bike', 'motor', 'ship']\n",
    "message = 'I prefer to use ' + brand[0].title() + trans[-2].title() + ' as transportation.'\n",
    "print(message)\n"
   ]
  },
  {
   "cell_type": "markdown",
   "metadata": {
    "hidden": true
   },
   "source": [
    "## insert()函数"
   ]
  },
  {
   "cell_type": "code",
   "execution_count": null,
   "metadata": {
    "hidden": true
   },
   "outputs": [],
   "source": [
    "motorbycles = ['honda', 'yamaha', 'suzuki']\n",
    "print(motorbycles)\n",
    "motorbycles[0] = 'ducati'\n",
    "print(motorbycles)\n",
    "motorbycles.append('ducati')\n",
    "print(motorbycles)\n",
    "# insert()函数的使用\n",
    "motorbycles.insert(1, 'ducati')\n",
    "print(motorbycles)\n"
   ]
  },
  {
   "cell_type": "markdown",
   "metadata": {
    "hidden": true
   },
   "source": [
    "## append()函数"
   ]
  },
  {
   "cell_type": "markdown",
   "metadata": {
    "hidden": true
   },
   "source": [
    "注：append()函数用于在列表中追加元素。"
   ]
  },
  {
   "cell_type": "code",
   "execution_count": null,
   "metadata": {
    "hidden": true
   },
   "outputs": [],
   "source": [
    "motor = []\n",
    "motor.append('honda')\n",
    "motor.append('yamaha')\n",
    "motor.append('suzuki')\n",
    "print(motor)\n"
   ]
  },
  {
   "cell_type": "markdown",
   "metadata": {
    "hidden": true
   },
   "source": [
    "## del()函数"
   ]
  },
  {
   "cell_type": "markdown",
   "metadata": {
    "hidden": true
   },
   "source": [
    "注：del()函数用来删除列表中的第一个元素。"
   ]
  },
  {
   "cell_type": "code",
   "execution_count": null,
   "metadata": {
    "hidden": true
   },
   "outputs": [],
   "source": [
    "motor = ['honda', 'yamaha', 'suzuki']\n",
    "print(motor)\n",
    "del motor[0]\n",
    "print(motor)\n",
    "del motor[0]\n",
    "print(motor)\n",
    "del motor[0]\n",
    "print(motor)\n"
   ]
  },
  {
   "cell_type": "markdown",
   "metadata": {
    "hidden": true
   },
   "source": [
    "## pop()"
   ]
  },
  {
   "cell_type": "markdown",
   "metadata": {
    "hidden": true
   },
   "source": [
    "### pop()使用方式"
   ]
  },
  {
   "cell_type": "code",
   "execution_count": null,
   "metadata": {
    "hidden": true
   },
   "outputs": [],
   "source": [
    "motor = ['honda', 'yamaha', 'suzuki']\n",
    "print(motor)\n",
    "pop_motor = motor.pop()\n",
    "print(pop_motor)  #被弹出的元素\n",
    "print(motor)  #被弹出后剩余的元素\n"
   ]
  },
  {
   "cell_type": "markdown",
   "metadata": {
    "hidden": true
   },
   "source": [
    "### pop()函数示例"
   ]
  },
  {
   "cell_type": "code",
   "execution_count": null,
   "metadata": {
    "hidden": true
   },
   "outputs": [],
   "source": [
    "motor = ['honda', 'yamaha', 'suzuki']\n",
    "print('The last motor I bought is ' + motor.pop() + '.')\n"
   ]
  },
  {
   "cell_type": "markdown",
   "metadata": {
    "hidden": true
   },
   "source": [
    "### pop()弹出list中任一位置元素"
   ]
  },
  {
   "cell_type": "code",
   "execution_count": null,
   "metadata": {
    "hidden": true,
    "scrolled": true
   },
   "outputs": [],
   "source": [
    "first_own = motor.pop(0)\n",
    "print('The first motor I owned is '+ first_own.title() + '.')\n"
   ]
  },
  {
   "cell_type": "markdown",
   "metadata": {
    "hidden": true
   },
   "source": [
    "## remove()"
   ]
  },
  {
   "cell_type": "markdown",
   "metadata": {
    "hidden": true
   },
   "source": [
    "### 根据值删除list中的元素"
   ]
  },
  {
   "cell_type": "code",
   "execution_count": null,
   "metadata": {
    "hidden": true
   },
   "outputs": [],
   "source": [
    "motor = ['honda', 'yamaha', 'suzuki', 'ducati']\n",
    "print(motor)\n",
    "\n",
    "motor.remove('ducati')\n",
    "print(motor)\n"
   ]
  },
  {
   "cell_type": "markdown",
   "metadata": {
    "hidden": true
   },
   "source": [
    "### remove()的进一步用法"
   ]
  },
  {
   "cell_type": "code",
   "execution_count": null,
   "metadata": {
    "hidden": true
   },
   "outputs": [],
   "source": [
    "motor = ['honda', 'yamaha', 'suzuki', 'ducati']\n",
    "print(motor)\n",
    "\n",
    "too_expensive = 'ducati'\n",
    "motor.remove(too_expensive)\n",
    "print(motor )\n",
    "print('\\nA ' + too_expensive.title() + ' is too expensive for me.')\n"
   ]
  },
  {
   "cell_type": "markdown",
   "metadata": {
    "heading_collapsed": true
   },
   "source": [
    "# 组织列表"
   ]
  },
  {
   "cell_type": "markdown",
   "metadata": {
    "heading_collapsed": true,
    "hidden": true
   },
   "source": [
    "## 使用方法sort()对列表进行永久性排序"
   ]
  },
  {
   "cell_type": "code",
   "execution_count": null,
   "metadata": {
    "hidden": true
   },
   "outputs": [],
   "source": [
    "cars = ['bmw', 'audi', 'toyota', 'subaru']\n",
    "cars.sort()\n",
    "print(cars)\n"
   ]
  },
  {
   "cell_type": "markdown",
   "metadata": {
    "heading_collapsed": true,
    "hidden": true
   },
   "source": [
    "## sort(reverse=True)函数按字母反序排列"
   ]
  },
  {
   "cell_type": "code",
   "execution_count": null,
   "metadata": {
    "hidden": true
   },
   "outputs": [],
   "source": [
    "cars = ['bmw', 'audi', 'toyota', 'subaru']\n",
    "#增加reverse=Ture\n",
    "cars.sort(reverse=True)\n",
    "print(cars)\n"
   ]
  },
  {
   "cell_type": "markdown",
   "metadata": {
    "heading_collapsed": true,
    "hidden": true
   },
   "source": [
    "## sorted()函数对列表进行临时排序"
   ]
  },
  {
   "cell_type": "code",
   "execution_count": null,
   "metadata": {
    "hidden": true
   },
   "outputs": [],
   "source": [
    "cars = ['honda', 'yamaha', 'suzuki', 'ducati']\n",
    "print('The original list is: ' )\n",
    "print(cars)\n",
    "print('The sorted list is:')\n",
    "print(sorted(cars))\n",
    "print(sorted(cars, reverse=True))\n",
    "print('The original list is:')\n",
    "print(cars)\n"
   ]
  },
  {
   "cell_type": "markdown",
   "metadata": {
    "heading_collapsed": true,
    "hidden": true
   },
   "source": [
    "## reverse()函数倒着打印列表(不是按字母反排序)"
   ]
  },
  {
   "cell_type": "code",
   "execution_count": null,
   "metadata": {
    "hidden": true
   },
   "outputs": [],
   "source": [
    "cars = ['bmw', 'audi', 'toyota', 'subaru']\n",
    "cars.reverse()\n",
    "print(cars)\n"
   ]
  },
  {
   "cell_type": "markdown",
   "metadata": {
    "heading_collapsed": true,
    "hidden": true
   },
   "source": [
    "## len()函数获取列表长度"
   ]
  },
  {
   "cell_type": "code",
   "execution_count": null,
   "metadata": {
    "hidden": true
   },
   "outputs": [],
   "source": [
    "cars = ['bmw', 'audi', 'toyota', 'subaru']\n",
    "len(cars)\n"
   ]
  },
  {
   "cell_type": "markdown",
   "metadata": {},
   "source": [
    "# 列表操作"
   ]
  },
  {
   "cell_type": "markdown",
   "metadata": {},
   "source": [
    "## 采用for遍历列表"
   ]
  },
  {
   "cell_type": "code",
   "execution_count": null,
   "metadata": {},
   "outputs": [],
   "source": [
    "magicians = ['alice', 'david', 'carolina']\n",
    "for magician in magicians:\n",
    "    print(magician)\n",
    "    print(magician.title() + ' is a great tricker.\\n')\n",
    "print('Thanks for everyone, that is a great magic show.')"
   ]
  },
  {
   "cell_type": "markdown",
   "metadata": {},
   "source": [
    "## list()+range()创建数值列表"
   ]
  },
  {
   "cell_type": "code",
   "execution_count": null,
   "metadata": {},
   "outputs": [],
   "source": [
    "#打印数字1~4\n",
    "for value in range(1,5):\n",
    "    print(value)\n"
   ]
  },
  {
   "cell_type": "code",
   "execution_count": null,
   "metadata": {},
   "outputs": [],
   "source": [
    "#创建1~4数字列表\n",
    "number = list(range(1,5))\n",
    "print(number)\n"
   ]
  },
  {
   "cell_type": "code",
   "execution_count": null,
   "metadata": {},
   "outputs": [],
   "source": [
    "#创建0~9的平方列表\n",
    "squre_list = []\n",
    "\n",
    "for value in range(10):\n",
    "    squre = value**2\n",
    "    squre_list.append(squre)\n",
    "    print(squre_list)\n",
    "    \n",
    "print(squre_list)\n",
    "    "
   ]
  },
  {
   "cell_type": "markdown",
   "metadata": {},
   "source": [
    "## 对数字列表执行简单的统计计算"
   ]
  },
  {
   "cell_type": "code",
   "execution_count": null,
   "metadata": {},
   "outputs": [],
   "source": [
    "A = list(range(10))\n",
    "minA = min(A)\n",
    "maxA = max(A)\n",
    "sumA = sum(A)\n"
   ]
  },
  {
   "cell_type": "markdown",
   "metadata": {},
   "source": [
    "## 列表解析"
   ]
  },
  {
   "cell_type": "code",
   "execution_count": null,
   "metadata": {},
   "outputs": [],
   "source": [
    "squres = [value**2 for value in range(10)]    #for语句结尾没有冒号\n",
    "print(squres)\n"
   ]
  },
  {
   "cell_type": "markdown",
   "metadata": {},
   "source": [
    "## 列表切片"
   ]
  },
  {
   "cell_type": "code",
   "execution_count": null,
   "metadata": {},
   "outputs": [],
   "source": [
    "#取列表前三元素\n",
    "players = ['charles', 'martina', 'michael', 'florence', 'eli']\n",
    "print(players[0:3])\n",
    "print(players[:3])\n",
    "print(players[3:])\n",
    "print(players[-3:])\n"
   ]
  },
  {
   "cell_type": "markdown",
   "metadata": {},
   "source": [
    "## 遍历切片"
   ]
  },
  {
   "cell_type": "code",
   "execution_count": null,
   "metadata": {},
   "outputs": [],
   "source": [
    "players = ['charles', 'martina', 'michael', 'florence', 'eli']\n",
    "\n",
    "for player in players[:3]:\n",
    "    print(player.title())\n",
    "    "
   ]
  },
  {
   "cell_type": "markdown",
   "metadata": {},
   "source": [
    "## 复制列表"
   ]
  },
  {
   "cell_type": "markdown",
   "metadata": {},
   "source": [
    "注：将friend_foods=my_foods，而不是将my_foods的副本存储到friend_foods。这种语法实际上是让Python将新变量friend_foods关联到包含在my_foods中的列表，因此这两个变量都指向同一个列表。"
   ]
  },
  {
   "cell_type": "code",
   "execution_count": null,
   "metadata": {},
   "outputs": [],
   "source": [
    "my_foods = ['pizza', 'falafel', 'carrot cake']\n",
    "friend_food = my_foods[:]                   #使用列表副本，不要直接用“=”赋值\n",
    "print(my_foods)\n",
    "print(friend_food)\n",
    "\n",
    "my_foods.append('cannoli')\n",
    "friend_food.append('ice cream')\n",
    "print(my_foods)\n",
    "print(friend_food)\n"
   ]
  },
  {
   "cell_type": "markdown",
   "metadata": {
    "heading_collapsed": true
   },
   "source": [
    "# 元组"
   ]
  },
  {
   "cell_type": "markdown",
   "metadata": {
    "hidden": true
   },
   "source": [
    "注：Python将不能修改的值称为不可变的，而不可变的列表被称为元组。元组看起来犹如列表，但使用圆括号而不是方括号来标识。"
   ]
  },
  {
   "cell_type": "code",
   "execution_count": null,
   "metadata": {
    "hidden": true
   },
   "outputs": [],
   "source": [
    "dimensions = (200, 500)\n",
    "print(dimensions[0])\n",
    "print(dimensions[1])\n"
   ]
  },
  {
   "cell_type": "markdown",
   "metadata": {
    "hidden": true
   },
   "source": [
    "## 遍历元组元素"
   ]
  },
  {
   "cell_type": "code",
   "execution_count": null,
   "metadata": {
    "hidden": true
   },
   "outputs": [],
   "source": [
    "dimensions = (200, 500, 1000)\n",
    "\n",
    "for value in dimensions:\n",
    "    print(value)\n",
    "    "
   ]
  },
  {
   "cell_type": "markdown",
   "metadata": {
    "hidden": true
   },
   "source": [
    "## 给元组变量重新赋值"
   ]
  },
  {
   "cell_type": "code",
   "execution_count": null,
   "metadata": {
    "hidden": true
   },
   "outputs": [],
   "source": [
    "dimensions = (200, 500, 1000)\n",
    "for value in dimensions:\n",
    "    print(value)\n",
    "    \n",
    "dimensions = (300, 400, 2000)\n",
    "for value in dimensions:\n",
    "    print(value)\n",
    "    "
   ]
  },
  {
   "cell_type": "code",
   "execution_count": null,
   "metadata": {
    "hidden": true
   },
   "outputs": [],
   "source": [
    "dimensions = (200, 500, 1000)\n",
    "\n",
    "for value in dimensions:\n",
    "    print(value)\n",
    "    "
   ]
  },
  {
   "cell_type": "markdown",
   "metadata": {},
   "source": [
    "# if语句"
   ]
  },
  {
   "cell_type": "markdown",
   "metadata": {},
   "source": [
    "注：检查等于采用“==”，检查不等于采用“!=”；"
   ]
  },
  {
   "cell_type": "markdown",
   "metadata": {},
   "source": [
    "## 检查一个条件"
   ]
  },
  {
   "cell_type": "code",
   "execution_count": null,
   "metadata": {},
   "outputs": [],
   "source": [
    "cars = ['audi', 'bmw', 'subaru', 'toyota']\n",
    "\n",
    "for car in cars:\n",
    "    if car == 'bmw':\n",
    "        print(car.upper())\n",
    "    else:\n",
    "        print(car.title())\n",
    "        "
   ]
  },
  {
   "cell_type": "markdown",
   "metadata": {},
   "source": [
    "## 检查多个条件"
   ]
  },
  {
   "cell_type": "markdown",
   "metadata": {},
   "source": [
    "### 使用“and”检查多个条件"
   ]
  },
  {
   "cell_type": "code",
   "execution_count": null,
   "metadata": {},
   "outputs": [],
   "source": [
    "#待定"
   ]
  },
  {
   "cell_type": "markdown",
   "metadata": {},
   "source": [
    "### 使用“or”检查多个条件"
   ]
  },
  {
   "cell_type": "code",
   "execution_count": null,
   "metadata": {},
   "outputs": [],
   "source": [
    "#待定"
   ]
  },
  {
   "cell_type": "markdown",
   "metadata": {},
   "source": [
    "## 检查特定值是否在列表中"
   ]
  },
  {
   "cell_type": "code",
   "execution_count": null,
   "metadata": {},
   "outputs": [],
   "source": [
    "requested_toppings = ['mushrooms', 'onions', 'pineapple']\n",
    "'mushrooms' in requested_toppings\n",
    "'pepperoni' in requested_toppings\n"
   ]
  },
  {
   "cell_type": "markdown",
   "metadata": {},
   "source": [
    "## 检查特定值是否不在列表中"
   ]
  },
  {
   "cell_type": "code",
   "execution_count": null,
   "metadata": {},
   "outputs": [],
   "source": [
    "banned_users = ['andrew', 'carolina', 'david']\n",
    "user = 'marie'\n",
    "\n",
    "if user not in banned_users:   #如果user不包含在ban中，返回True\n",
    "    print(user.title() + ', you can post the comments.')\n",
    "    "
   ]
  },
  {
   "cell_type": "markdown",
   "metadata": {},
   "source": [
    "## if-elif-else 结构"
   ]
  },
  {
   "cell_type": "code",
   "execution_count": null,
   "metadata": {},
   "outputs": [],
   "source": [
    "age = 12\n",
    "\n",
    "if age < 4:\n",
    "    price = 0\n",
    "elif age < 18:\n",
    "    price = 5\n",
    "elif age < 65:\n",
    "    price = 10\n",
    "else:\n",
    "    price = 5\n",
    "    \n",
    "print('You admission cost is $' + str(price) + '.')\n"
   ]
  },
  {
   "cell_type": "markdown",
   "metadata": {},
   "source": [
    "## for、if嵌套语句"
   ]
  },
  {
   "cell_type": "code",
   "execution_count": null,
   "metadata": {},
   "outputs": [],
   "source": [
    "requested_toppings = ['mushrooms', 'green peppers', 'extra cheese']\n",
    "\n",
    "for requested_topping in requested_toppings:\n",
    "    if requested_topping == 'green peppers':\n",
    "        print('Sorry, we are out of ' + requested_topping + '.')\n",
    "    else:\n",
    "        print(\"Adding \" + requested_topping + \".\")\n",
    "\n",
    "print('\\nFinishing the pizza!')\n"
   ]
  },
  {
   "cell_type": "code",
   "execution_count": null,
   "metadata": {},
   "outputs": [],
   "source": [
    "#检查列表request_toppings中的元素是否在列表available_toppings中\n",
    "available_toppings = ['mushrooms', 'olives', 'green peppers',\n",
    "                      'pepperoni', 'pineapple', 'extra cheese']\n",
    "requested_toppings = ['mushrooms', 'french fries', 'extra cheese']\n",
    "\n",
    "for requested_topping in requested_toppings:\n",
    "    if requested_topping not in available_toppings:\n",
    "        print('We are out of ' + requested_topping.upper() + '.')\n",
    "    else:\n",
    "        print('Adding ' + requested_topping.upper() + ' into pizza.')\n",
    "        \n",
    "print('\\nPizza finished!')\n"
   ]
  },
  {
   "cell_type": "markdown",
   "metadata": {},
   "source": [
    "# 字典"
   ]
  },
  {
   "cell_type": "markdown",
   "metadata": {},
   "source": [
    "## 简单字典示例"
   ]
  },
  {
   "cell_type": "markdown",
   "metadata": {},
   "source": [
    "注：在Python中， 字典是一系列键—值对。每个键都与一个值相关联，你可以使用键来访问与之相关联的值。"
   ]
  },
  {
   "cell_type": "code",
   "execution_count": null,
   "metadata": {},
   "outputs": [],
   "source": [
    "alien_0 = {'color': 'green', 'points': 5}\n",
    "print(alien_0['color'])\n",
    "print(alien_0['points'])\n"
   ]
  },
  {
   "cell_type": "markdown",
   "metadata": {},
   "source": [
    "## 添加键值对"
   ]
  },
  {
   "cell_type": "code",
   "execution_count": null,
   "metadata": {},
   "outputs": [],
   "source": [
    "alien_0 = {'color': 'green', 'points': 5}\n",
    "print(alien_0)\n",
    "\n",
    "alien_0['x_position'] = 0      #添加键值对\n",
    "alien_0['y_position'] = 25\n",
    "print(alien_0)\n"
   ]
  },
  {
   "cell_type": "markdown",
   "metadata": {},
   "source": [
    "## 修改字典中值"
   ]
  },
  {
   "cell_type": "code",
   "execution_count": null,
   "metadata": {},
   "outputs": [],
   "source": [
    "alien_0 = {'x_position': 25, 'speed':'medium'}\n",
    "x_increment = (2, 4, 6)\n",
    "\n",
    "if alien_0['speed'] == 'low':\n",
    "    alien_0['x_position'] = alien_0['x_position'] + x_increment[0]\n",
    "elif alien_0['speed'] == 'medium':\n",
    "    alien_0['x_position'] = alien_0['x_position'] + x_increment[1]\n",
    "else:\n",
    "    alien_0['x_position'] = alien_0['x_position'] + x_increment[2]\n",
    "    \n",
    "print('The speed is ' + str(alien_0['x_position']) + '.')\n"
   ]
  },
  {
   "cell_type": "markdown",
   "metadata": {},
   "source": [
    "## 遍历所有的键值对"
   ]
  },
  {
   "cell_type": "markdown",
   "metadata": {},
   "source": [
    "### 遍历键和值"
   ]
  },
  {
   "cell_type": "markdown",
   "metadata": {},
   "source": [
    "注：for语句的第二部分包含字典名和方法items()"
   ]
  },
  {
   "cell_type": "code",
   "execution_count": null,
   "metadata": {},
   "outputs": [],
   "source": [
    "user_0 = {\n",
    "    'username': 'efermi',\n",
    "    'first': 'enrico',\n",
    "    'last': 'fermi',\n",
    "    }\n",
    "\n",
    "for k, v in user_0.items():   #for循环中可以定义两个变量，字典名后使用items()方法\n",
    "    print('\\nkey: ' + k)\n",
    "    print('value: ' + v)\n",
    "\n",
    "    "
   ]
  },
  {
   "cell_type": "markdown",
   "metadata": {},
   "source": [
    "### 遍历键\n",
    "注：for中采用方法key()"
   ]
  },
  {
   "cell_type": "code",
   "execution_count": null,
   "metadata": {},
   "outputs": [],
   "source": [
    "user_0 = {\n",
    "    'username': 'efermi',\n",
    "    'first': 'enrico',\n",
    "    'last': 'fermi',\n",
    "    }\n",
    "\n",
    "for key in user_0.keys():   #也可以不加“keys()”输出结果相同\n",
    "    print(key)"
   ]
  },
  {
   "cell_type": "markdown",
   "metadata": {},
   "source": [
    "### 遍历值"
   ]
  },
  {
   "cell_type": "code",
   "execution_count": null,
   "metadata": {},
   "outputs": [],
   "source": [
    "user_0 = {\n",
    "    'username': 'efermi',\n",
    "    'first': 'enrico',\n",
    "    'last': 'fermi',\n",
    "    }\n",
    "\n",
    "for key in user_0.keys():   #采用键名为索引遍历值\n",
    "    print(user_0[key])\n",
    " \n",
    "for value in user_0.values(): #采用“values()”方法\n",
    "    print(value)\n",
    "    "
   ]
  },
  {
   "cell_type": "markdown",
   "metadata": {},
   "source": [
    "### 按顺序遍历字典中的所有键"
   ]
  },
  {
   "cell_type": "code",
   "execution_count": null,
   "metadata": {},
   "outputs": [],
   "source": [
    "user_0 = {\n",
    "    'username': 'efermi',\n",
    "    'first': 'enrico',\n",
    "    'last': 'fermi',\n",
    "    }\n",
    "\n",
    "for key in sorted(user_0.keys()):\n",
    "    print(key)\n",
    "    "
   ]
  },
  {
   "cell_type": "markdown",
   "metadata": {},
   "source": [
    "## 嵌套"
   ]
  },
  {
   "cell_type": "markdown",
   "metadata": {},
   "source": [
    "### 在列表中储存字典"
   ]
  },
  {
   "cell_type": "code",
   "execution_count": null,
   "metadata": {},
   "outputs": [],
   "source": [
    "alien_0 = {'color': 'green', 'points': 5}\n",
    "alien_1 = {'color': 'yellow', 'points': 10}\n",
    "alien_2 = {'color': 'red', 'points': 15}\n",
    "\n",
    "aliens = [alien_0, alien_1, alien_2]\n",
    "for alien in aliens:\n",
    "    print(alien)\n",
    "    "
   ]
  },
  {
   "cell_type": "code",
   "execution_count": null,
   "metadata": {},
   "outputs": [],
   "source": [
    "aliens = []\n",
    "\n",
    "for alien_number in range(30):\n",
    "    new_alien = {'color': 'green', 'points': 5, 'speed': 'slow'}\n",
    "    aliens.append(new_alien)\n",
    "    \n",
    "for alien in aliens[:5]:\n",
    "    print(alien)\n",
    "    \n",
    "print('...')\n",
    "print('The total numbers of aliens is ' + str(len(aliens)) + '.')\n",
    "\n",
    "for alien in aliens[:3]:\n",
    "    if alien['color'] == 'green':\n",
    "        alien['color'] = 'yellow'\n",
    "        alien['speed'] = 'medium'\n",
    "        alien['point'] = 10\n",
    "        \n",
    "for alien in aliens[:5]:        \n",
    "    print(alien)\n",
    "print(\"...\")        \n"
   ]
  },
  {
   "cell_type": "markdown",
   "metadata": {},
   "source": [
    "### 在字典中储存列表"
   ]
  },
  {
   "cell_type": "code",
   "execution_count": null,
   "metadata": {},
   "outputs": [],
   "source": [
    "pizza = {\n",
    "    'crust': 'thick',\n",
    "    'toppings': ['mushroom', 'extra cheese'],   #行后的“，”不能忘记，字典中嵌套列表\n",
    "    }\n",
    "\n",
    "print('You order a ' + pizza['crust'] + '-pizza with toppings: ')\n",
    "\n",
    "for topping in pizza['toppings']:\n",
    "    print('\\t' + topping)\n",
    "    "
   ]
  },
  {
   "cell_type": "code",
   "execution_count": null,
   "metadata": {
    "code_folding": []
   },
   "outputs": [],
   "source": [
    "favorite_languages = {\n",
    "    'jen': ['python', 'ruby'],\n",
    "    'sarah': ['c'],\n",
    "    'edward': ['ruby', 'go'],f\n",
    "    'phil': ['python', 'haskell'],\n",
    "    }\n",
    "\n",
    "for name, value in favorite_languages.items():\n",
    "    if len(value) > 1:\n",
    "        print(name.title() + \"'s favorite language are:\")\n",
    "    else:\n",
    "        print(name.title() + \"'s favorite language is:\")\n",
    "    \n",
    "    for language in value:\n",
    "        print('\\t' + language)\n",
    "    \n",
    "    print('\\n')\n"
   ]
  },
  {
   "cell_type": "markdown",
   "metadata": {},
   "source": [
    "### 在字典中储存字典"
   ]
  },
  {
   "cell_type": "code",
   "execution_count": null,
   "metadata": {},
   "outputs": [],
   "source": [
    "%debug\n",
    "users = {\n",
    "    'aeinstein':{\n",
    "        'first': 'albert',\n",
    "        'last': 'aeinstein',\n",
    "        'position': 'princeton',\n",
    "    },\n",
    "    'mcurie':{\n",
    "        'first': 'marie',\n",
    "        'last': 'mcurie',\n",
    "        'position': 'paris',\n",
    "    },   \n",
    "}\n"
   ]
  },
  {
   "cell_type": "markdown",
   "metadata": {},
   "source": [
    "# 用户输入和while循环"
   ]
  },
  {
   "cell_type": "markdown",
   "metadata": {},
   "source": [
    "## 函数 input()的工作原理"
   ]
  },
  {
   "cell_type": "code",
   "execution_count": null,
   "metadata": {},
   "outputs": [],
   "source": [
    "msg = input('Tell me something, I will repeat it back to you: ')\n",
    "print(msg)\n"
   ]
  },
  {
   "cell_type": "markdown",
   "metadata": {},
   "source": [
    "## 创建多行字符串提示"
   ]
  },
  {
   "cell_type": "markdown",
   "metadata": {},
   "source": [
    "注：采用符号“+=”"
   ]
  },
  {
   "cell_type": "code",
   "execution_count": null,
   "metadata": {},
   "outputs": [],
   "source": [
    "prompt = 'If you tell us who you are, we can personalize the messages you see.'\n",
    "prompt += '\\nWhat is your name? '\n",
    "msg = input(prompt)\n",
    "print(msg)\n"
   ]
  },
  {
   "cell_type": "markdown",
   "metadata": {},
   "source": [
    "## 采用int()函数"
   ]
  },
  {
   "cell_type": "markdown",
   "metadata": {},
   "source": [
    "注：input()函数输出为字符串，采用int()函数输出数值"
   ]
  },
  {
   "cell_type": "code",
   "execution_count": null,
   "metadata": {},
   "outputs": [],
   "source": [
    "age = input('How old are you?')\n",
    "age = int(age)\n",
    "if age > 18:\n",
    "    print('You are permitted to vote.')\n",
    "    "
   ]
  },
  {
   "cell_type": "markdown",
   "metadata": {},
   "source": [
    "## 求模运算符"
   ]
  },
  {
   "cell_type": "markdown",
   "metadata": {},
   "source": [
    "注：处理数值信息时， 求模运算符（%）是一个很有用的工具，它将两个数相除并返回余数。"
   ]
  },
  {
   "cell_type": "code",
   "execution_count": null,
   "metadata": {},
   "outputs": [],
   "source": [
    "print(5/3)\n",
    "print(5%3)\n"
   ]
  },
  {
   "cell_type": "markdown",
   "metadata": {},
   "source": [
    "## while循环"
   ]
  },
  {
   "cell_type": "code",
   "execution_count": null,
   "metadata": {},
   "outputs": [],
   "source": [
    "current_number = 1\n",
    "\n",
    "while current_number <= 5:\n",
    "    print(current_number)\n",
    "    current_number += 1\n"
   ]
  },
  {
   "cell_type": "markdown",
   "metadata": {},
   "source": [
    "### 让用户选择何时退出"
   ]
  },
  {
   "cell_type": "code",
   "execution_count": null,
   "metadata": {},
   "outputs": [],
   "source": [
    "prompt = \"\\nTell me something, and I will repeat it back to you:\"\n",
    "prompt += \"\\nEnter 'quit' to end the program. \"\n",
    "msg = ''                              #让Python首次执行while代码行时有可供检查的东西\n",
    "while msg != 'quit':\n",
    "    msg = input(prompt)\n",
    "    \n",
    "    if msg != 'quit':\n",
    "        print(msg)\n",
    "    "
   ]
  },
  {
   "cell_type": "markdown",
   "metadata": {},
   "source": [
    "### 标志"
   ]
  },
  {
   "cell_type": "markdown",
   "metadata": {},
   "source": [
    "注：在要求很多条件都满足才继续运行的程序中，可定义一个变量，用于判断整个程序是否处于活动状态。这个变量被称为标志，充当了程序的交通信号灯。"
   ]
  },
  {
   "cell_type": "code",
   "execution_count": null,
   "metadata": {},
   "outputs": [],
   "source": [
    "prompt = \"\\nTell me something, and I will repeat it back to you:\"\n",
    "prompt += \"\\nEnter 'quit' to end the program. \"\n",
    "\n",
    "active = True\n",
    "while active:\n",
    "    msg = input(prompt)\n",
    "    \n",
    "    if msg == 'quit':\n",
    "        active = False\n",
    "    else:\n",
    "        print(msg)\n",
    "        "
   ]
  },
  {
   "cell_type": "markdown",
   "metadata": {},
   "source": [
    "### 使用 break 退出循环"
   ]
  },
  {
   "cell_type": "markdown",
   "metadata": {},
   "source": [
    "注：要立即退出while循环，不再运行循环中余下的代码，也不管条件测试的结果如何，可使用break语句。以while True打头的循环将不断运行，直到遇到break语句。"
   ]
  },
  {
   "cell_type": "code",
   "execution_count": null,
   "metadata": {},
   "outputs": [],
   "source": [
    "prompt = \"\\nPlease enter the name of a city you have visited:\"\n",
    "prompt += \"\\n(Enter 'quit' when you are finished.) \"\n",
    "\n",
    "while True:                       #\"while True:\"保证一直循环\n",
    "    city = input(prompt)\n",
    "    \n",
    "    if city == 'quit':\n",
    "        break                     #跳出循环，终止循环\n",
    "    else:\n",
    "        print(city)\n",
    "        "
   ]
  },
  {
   "cell_type": "markdown",
   "metadata": {},
   "source": [
    "### 在循环中使用 continue"
   ]
  },
  {
   "cell_type": "markdown",
   "metadata": {},
   "source": [
    "注：循环中遇到continue指令，程序将返回执行循环体第一句，重新执行循环，continue后的语句将不会被执行。"
   ]
  },
  {
   "cell_type": "code",
   "execution_count": null,
   "metadata": {},
   "outputs": [],
   "source": [
    "current_number = 0\n",
    "\n",
    "while current_number <= 10:\n",
    "    if current_number % 2 == 0:\n",
    "        print(current_number)\n",
    "        current_number += 1\n",
    "    else:\n",
    "        current_number += 1\n",
    "        continue"
   ]
  },
  {
   "cell_type": "markdown",
   "metadata": {},
   "source": [
    "### 使用 while 循环来处理列表和字典"
   ]
  },
  {
   "cell_type": "markdown",
   "metadata": {},
   "source": [
    "#### 在列表之间移动元素"
   ]
  },
  {
   "cell_type": "code",
   "execution_count": null,
   "metadata": {},
   "outputs": [],
   "source": [
    "unconfirmed_users = ['alice', 'brian', 'candace']\n",
    "confirmed_users = []\n",
    "\n",
    "while unconfirmed_users:\n",
    "    current_user = unconfirmed_users.pop()\n",
    "    print('Verifying users: ' + current_user.title())\n",
    "    confirmed_users.append(current_user)\n",
    "\n",
    "confirmed_users.sort()\n",
    "print(confirmed_users)\n"
   ]
  },
  {
   "cell_type": "markdown",
   "metadata": {},
   "source": [
    "####  删除包含特定值的所有列表元素"
   ]
  },
  {
   "cell_type": "code",
   "execution_count": null,
   "metadata": {},
   "outputs": [],
   "source": [
    "pets = ['dog', 'cat', 'dog', 'goldfish', 'cat', 'rabbit','cat']\n",
    "print(pets)\n",
    "\n",
    "while 'cat' in pets:\n",
    "    pets.remove('cat')\n",
    "    \n",
    "print(pets)\n"
   ]
  },
  {
   "cell_type": "markdown",
   "metadata": {},
   "source": [
    "#### 使用用户输入来填充字典"
   ]
  },
  {
   "cell_type": "code",
   "execution_count": null,
   "metadata": {},
   "outputs": [],
   "source": [
    "responses = {}\n",
    "polling_active = True\n",
    "\n",
    "while polling_active:\n",
    "    name = input(\"\\nWhat's your name? \")\n",
    "    response = input(\"Which mountain would you like to climb someday?\")\n",
    "    responses[name] = response\n",
    "    \n",
    "    repeat = input(\"Would you like to let another person respond? (yes/ no) \")\n",
    "    if repeat == 'no':\n",
    "        polling_active = False\n",
    "        \n",
    "print(\"\\n--- Poll Results ---\")\n",
    "\n",
    "for name, response in responses.items():\n",
    "    print(name.title() + \" would like to climb \" + response.upper() + '.')\n",
    "      "
   ]
  },
  {
   "cell_type": "markdown",
   "metadata": {},
   "source": [
    "# 函数"
   ]
  },
  {
   "cell_type": "code",
   "execution_count": null,
   "metadata": {},
   "outputs": [],
   "source": [
    "from jupyterthemes import jtplot       #导入主题图片包\n",
    "import numpy as np\n",
    "import matplotlib.pyplot as plt\n",
    "\n",
    "jtplot.style()   #使用和主题相同的图片\n",
    "\n",
    "x = np.linspace(0, np.pi*2, 1000)\n",
    "y = np.sin(x)\n",
    "\n",
    "plt.plot(x, y)\n",
    "plt.show()\n"
   ]
  },
  {
   "cell_type": "markdown",
   "metadata": {},
   "source": [
    "## 定义函数"
   ]
  },
  {
   "cell_type": "code",
   "execution_count": null,
   "metadata": {},
   "outputs": [],
   "source": [
    "def greet_user():\n",
    "    \"\"\"三双引号括起的函数注释\"\"\"\n",
    "    print('Hello!')\n",
    "    \n",
    "greet_user()\n"
   ]
  },
  {
   "cell_type": "markdown",
   "metadata": {},
   "source": [
    "## 向函数传递信息"
   ]
  },
  {
   "cell_type": "code",
   "execution_count": null,
   "metadata": {},
   "outputs": [],
   "source": [
    "def greet_user(user_name):\n",
    "    print('Hello, ' + user_name.title() + '.')\n",
    "    \n",
    "greet_user('jesse')\n",
    "greet_user('sarah')\n"
   ]
  },
  {
   "cell_type": "markdown",
   "metadata": {},
   "source": [
    "## 实参和形参"
   ]
  },
  {
   "cell_type": "markdown",
   "metadata": {},
   "source": [
    "### 位置实参"
   ]
  },
  {
   "cell_type": "code",
   "execution_count": null,
   "metadata": {},
   "outputs": [],
   "source": [
    "def describe_animal(animal_type, animal_name):\n",
    "    print('\\nI have a ' + animal_type + '.')\n",
    "    print('My ' + animal_type + \"'s name is \" + animal_name.title() + '.')\n",
    "    \n",
    "describe_animal('hamster', 'harry')\n",
    "describe_animal('dog', 'golden furry')\n",
    "\n",
    "pets_type = {'dog':'gloden furry', 'cat': 'tom', 'dog': 'bruto', 'hamster': 'chessy'}\n",
    "\n",
    "for k, v in pets_type.items():\n",
    "    describe_animal(k, v)\n",
    "    "
   ]
  },
  {
   "cell_type": "markdown",
   "metadata": {},
   "source": [
    "### 关键字实参"
   ]
  },
  {
   "cell_type": "code",
   "execution_count": null,
   "metadata": {},
   "outputs": [],
   "source": [
    "def describe_animal(animal_type, animal_name):\n",
    "    print('\\nI have a ' + animal_type + '.')\n",
    "    print('My ' + animal_type + \"'s name is \" + animal_name.title() + '.')\n",
    "    \n",
    "describe_animal('hamster', 'harry')\n",
    "# 使用关键字实参方式调用函数\n",
    "describe_animal(animal_name='golden furry', animal_type='dog')\n"
   ]
  },
  {
   "cell_type": "markdown",
   "metadata": {},
   "source": [
    "### 函数调用中的默认值"
   ]
  },
  {
   "cell_type": "code",
   "execution_count": null,
   "metadata": {},
   "outputs": [],
   "source": [
    "# 注：animal_type存在默认值，使用位置实参传递时，函数定义中需将animal_name放在第一个形参位置\n",
    "def describe_animal(animal_name, animal_type='dog'):\n",
    "    print('\\nI have a ' + animal_type + '.')\n",
    "    print('My ' + animal_type + \"'s name is \" + animal_name.title() + '.')\n",
    "    \n",
    "describe_animal('wille')\n",
    "describe_animal(animal_name='harry', animal_type='hamster')\n"
   ]
  },
  {
   "cell_type": "markdown",
   "metadata": {},
   "source": [
    "### 让实参变成可选的"
   ]
  },
  {
   "cell_type": "markdown",
   "metadata": {},
   "source": [
    "注:可给实参指定一个默认值——空字符串，并将其移到形参列表的末尾。"
   ]
  },
  {
   "cell_type": "code",
   "execution_count": null,
   "metadata": {},
   "outputs": [],
   "source": [
    "def get_full_name(first_name, last_name, middle_name=''):\n",
    "    full_name = first_name + \" \" +  middle_name +\" \" + last_name\n",
    "    return full_name.title()\n",
    "\n",
    "musician = get_full_name('jimi', 'hendrix', 'pussy')\n",
    "print(musician)   \n",
    "\n",
    "pianonist = get_full_name('jimi', 'hendrix')\n",
    "print(pianonist)\n"
   ]
  },
  {
   "cell_type": "code",
   "execution_count": null,
   "metadata": {},
   "outputs": [],
   "source": [
    "def get_name(first_name, last_name, middle_name=''):\n",
    "    if middle_name:                  #Python将非空字符串解读为True\n",
    "        full_name = first_name + ' ' + middle_name + ' ' + last_name\n",
    "    else:\n",
    "        full_name = first_name + ' ' + last_name\n",
    "    return full_name.title()\n",
    "\n",
    "artist = get_name('zhao', 'yan', 'ethan')\n",
    "print(artist)\n",
    "\n",
    "economist = get_name('zhao', 'yan')\n",
    "print(economist)\n"
   ]
  },
  {
   "cell_type": "markdown",
   "metadata": {
    "heading_collapsed": true
   },
   "source": [
    "## 返回值"
   ]
  },
  {
   "cell_type": "markdown",
   "metadata": {
    "hidden": true
   },
   "source": [
    "注：函数并非总是直接显示输出，相反，它可以处理一些数据，并返回一个或一组值。函数返回的值被称为返回值。在函数中，可使用return语句将值返回到调用函数的代码行。返回值让你能够将程序的大部分繁重工作移到函数中去完成，从而简化主程序。"
   ]
  },
  {
   "cell_type": "markdown",
   "metadata": {
    "hidden": true
   },
   "source": [
    "### 返回值"
   ]
  },
  {
   "cell_type": "code",
   "execution_count": null,
   "metadata": {
    "hidden": true
   },
   "outputs": [],
   "source": [
    "def get_fomatted_name(first_name, last_name):\n",
    "    \"\"\"返回整洁的姓名\"\"\"\n",
    "    full_name = first_name + ' ' + last_name\n",
    "    #将结果返回到函数调用行\n",
    "    return full_name.title()\n",
    "\n",
    "#提供一个变量，用于存储返回的值\n",
    "musician = get_fomatted_name('jimi', 'hendrix')\n",
    "print(musician)\n",
    "    "
   ]
  },
  {
   "cell_type": "markdown",
   "metadata": {
    "hidden": true
   },
   "source": [
    "### 返回字典"
   ]
  },
  {
   "cell_type": "code",
   "execution_count": null,
   "metadata": {
    "hidden": true
   },
   "outputs": [],
   "source": [
    "def build_person(first_name, last_name):\n",
    "    person = {'first': first_name, 'last': last_name}\n",
    "    return person           #返回字典\n",
    "\n",
    "musician =build_person('jimi', 'hendrix')\n",
    "print(musician)\n"
   ]
  },
  {
   "cell_type": "markdown",
   "metadata": {
    "heading_collapsed": true
   },
   "source": [
    "## 结合使用函数和 while 循环"
   ]
  },
  {
   "cell_type": "code",
   "execution_count": null,
   "metadata": {
    "hidden": true
   },
   "outputs": [],
   "source": [
    "def get_full_name(first_name, last_name):\n",
    "    full_name = first_name + ' ' + last_name\n",
    "    return full_name.title()\n",
    "    \n",
    "while True:\n",
    "    mark = input('If you want to quit (y/n): ')\n",
    "    if mark == 'n':\n",
    "        f_name = input('Please enter your first name: ')\n",
    "        l_name = input('Please enter your last name: ')\n",
    "    else:\n",
    "        print('You have already quited the entering process! \\n')\n",
    "        break\n",
    "    \n",
    "    f = get_full_name(f_name, l_name)\n",
    "    print('Hello! ' + f + '.' + '\\n')\n",
    "         "
   ]
  },
  {
   "cell_type": "markdown",
   "metadata": {},
   "source": [
    "## 传递列表给函数形参"
   ]
  },
  {
   "cell_type": "code",
   "execution_count": null,
   "metadata": {},
   "outputs": [],
   "source": [
    "# 定义形参names可以接受列表输入\n",
    "def greet_users(names):\n",
    "    for name in names:\n",
    "        print('Hello! ' + name.title() + '!')\n",
    "        \n",
    "name_list = ['zhao', 'yan', 'ethan']\n",
    "# 将列表传递给函数\n",
    "greet_users(name_list)  \n"
   ]
  },
  {
   "cell_type": "markdown",
   "metadata": {},
   "source": [
    "## 禁止函数修改列表"
   ]
  },
  {
   "cell_type": "markdown",
   "metadata": {},
   "source": [
    "注：可向函数传递列表的副本而不是原件；这样函数所做的任何修改都只影响副本，而丝毫不影响原件。\n",
    "    function_name(list_name[:])采用这种方式传递列表的完整切片；"
   ]
  },
  {
   "cell_type": "markdown",
   "metadata": {},
   "source": [
    "## 传递任意数量的实参"
   ]
  },
  {
   "cell_type": "markdown",
   "metadata": {},
   "source": [
    "注：形参名*toppings中的星号让Python创建一个名为toppings的空元组,并将收到的所有值都封装到这个元组中。"
   ]
  },
  {
   "cell_type": "code",
   "execution_count": null,
   "metadata": {},
   "outputs": [],
   "source": [
    "def make_pizza(*toppings):    #形参名*toppings中的星号让Python创建一个名为toppings的空元组\n",
    "    \"\"\"打印顾客点的所有配料\"\"\"\n",
    "    print(toppings)\n",
    "    \n",
    "make_pizza('pepperoni')\n",
    "make_pizza('mushroom', 'green pepper', 'extra cheese')\n"
   ]
  },
  {
   "cell_type": "markdown",
   "metadata": {},
   "source": [
    "## 将函数存储在模块中"
   ]
  },
  {
   "cell_type": "markdown",
   "metadata": {},
   "source": [
    "函数的优点之一是，使用它们可将代码块与主程序分离。通过给函数指定描述性名称，可让\n",
    "主程序容易理解得多。你还可以更进一步，将函数存储在被称为模块的独立文件中，再将模块导\n",
    "入到主程序中。 import语句允许在当前运行的程序文件中使用模块中的代码。"
   ]
  },
  {
   "cell_type": "code",
   "execution_count": null,
   "metadata": {},
   "outputs": [],
   "source": [
    "%%writefile pizza.py\n",
    "# 在当前文件夹下面创建一个pizza.py的文件\n",
    "def make_pizza(size, *toppings):\n",
    "    print(\"\\nMaking a \" + str(size) +\n",
    "          \"-inch pizza with the following toppings:\")\n",
    "    for topping in toppings:\n",
    "        print(\"- \" + topping)\n",
    "    "
   ]
  },
  {
   "cell_type": "markdown",
   "metadata": {},
   "source": [
    "### 导入整个模块"
   ]
  },
  {
   "cell_type": "markdown",
   "metadata": {},
   "source": [
    "注：将模块从jupyter notebook中导出，存在ipnb所在的文件夹中即可以import自定义模块。导入自定义模块:\n",
    "    'module_name.function_name()'"
   ]
  },
  {
   "cell_type": "code",
   "execution_count": null,
   "metadata": {},
   "outputs": [],
   "source": [
    "# 导入自定义模块'module_name.function_name()'\n",
    "import pizza\n",
    "\n",
    "# '*toppings'定义的形参可以输入多个实参 \n",
    "pizza.make_pizza(16, 'mushroom', 'backon', 'extra chesee')\n",
    "pizza.make_pizza(10, 'backon')\n"
   ]
  },
  {
   "cell_type": "markdown",
   "metadata": {},
   "source": [
    "### 导入模块中特定的函数或者类名"
   ]
  },
  {
   "cell_type": "markdown",
   "metadata": {},
   "source": [
    "语法：*from module_name import function_name*\n",
    "\n",
    "语法：*from module_name import function_0, function_1, function_2*"
   ]
  },
  {
   "cell_type": "code",
   "execution_count": null,
   "metadata": {},
   "outputs": [],
   "source": [
    "from pizza import make_pizza\n",
    "make_pizza(15, 'backon', 'mushroom')\n"
   ]
  },
  {
   "cell_type": "markdown",
   "metadata": {},
   "source": [
    "### 使用 as 给函数指定别名"
   ]
  },
  {
   "cell_type": "markdown",
   "metadata": {},
   "source": [
    "语法：*from module_name import function_name as fn*"
   ]
  },
  {
   "cell_type": "code",
   "execution_count": null,
   "metadata": {},
   "outputs": [],
   "source": [
    "from pizza import make_pizza as mp\n",
    "\n",
    "mp(16, \"pepperoni\")\n",
    "mp(12, 'mushrooms', 'green peppers', 'extra cheese')\n"
   ]
  },
  {
   "cell_type": "markdown",
   "metadata": {},
   "source": [
    "### 使用 as 给模块指定别名"
   ]
  },
  {
   "cell_type": "markdown",
   "metadata": {},
   "source": [
    "语法：*import module_name as mn*"
   ]
  },
  {
   "cell_type": "code",
   "execution_count": null,
   "metadata": {},
   "outputs": [],
   "source": [
    "import pizza as p\n",
    "p.make_pizza(15, 'mushroom')\n"
   ]
  },
  {
   "cell_type": "markdown",
   "metadata": {},
   "source": [
    "### 导入模块中的所有函数或类"
   ]
  },
  {
   "cell_type": "markdown",
   "metadata": {},
   "source": [
    "语法：*from module_name import **"
   ]
  },
  {
   "cell_type": "code",
   "execution_count": null,
   "metadata": {},
   "outputs": [],
   "source": [
    "from pizza import *\n",
    "\n",
    "make_pizza(16, 'pepperoni')\n",
    "make_pizza(12, 'mushrooms', 'green peppers', 'extra cheese')\n"
   ]
  },
  {
   "cell_type": "markdown",
   "metadata": {},
   "source": [
    "# Python面向对象编程"
   ]
  },
  {
   "cell_type": "markdown",
   "metadata": {},
   "source": [
    "## 创建和使用类"
   ]
  },
  {
   "cell_type": "markdown",
   "metadata": {},
   "source": [
    "### 创建Dog()类"
   ]
  },
  {
   "cell_type": "markdown",
   "metadata": {},
   "source": [
    "笔记：\n",
    "\n",
    "一、(a)在python中用首字母大写的字符串定义类名；（b）Dog类定义中的括号是空的，因为我们要从空白创建这个类；\n",
    "\n",
    "二、\\_\\_init__()方法(和Matlab OOP中的Constructor函数本质相同)：\n",
    "\n",
    "**类中的函数称为方法，__init__()是一个特殊的方法。根据Dog类创建新实例时， Python都会自动运行它。在这个方法的定义中，形\n",
    "参self必不可少，还必须位于其他形参的前面。为何必须在方法定义中包含形参self呢？因为Python调用这个__init__()方法来创建Dog实例时，将自动传入实参self。每个与类相关联的方法调用都自动传递实参self，它是一个指向实例本身的引用，让实例能够访问类中的属性和方法。self形参应该就是在实例化后代表这个实例本身，通过self.properties或者self.method()来引用这个实例化后的类的属性和方法**\n",
    "\n",
    "\n",
    "三、Dog类还定义了另外两个方法：sit()和roll_over()。由于这些方法不需要额外的信息，如名字或年龄，因此它们只有一个形参self。我们后面将创建的实例能够访问这些方法，换句话说，它们都会蹲下和打滚。"
   ]
  },
  {
   "cell_type": "code",
   "execution_count": null,
   "metadata": {},
   "outputs": [],
   "source": [
    "%%writefile dog.py\n",
    "\n",
    "class Dog():\n",
    "    \"\"\"模拟小狗的一次尝试\"\"\"\n",
    "    \n",
    "    def __init__(self, name, age):\n",
    "        \"\"\"初始化属性name和age\"\"\"\n",
    "        self.name = name\n",
    "        self.age = age\n",
    "        \n",
    "    def sit(self):\n",
    "        \"\"\"模拟小狗坐下行为\"\"\"\n",
    "        print(self.name.title() + ' is now sitting.')\n",
    "        \n",
    "    def roll_over(self):\n",
    "        \"\"\"模拟小狗打滚行为\"\"\"\n",
    "        print(self.name.title() + 'roll over.')\n",
    "        "
   ]
  },
  {
   "cell_type": "markdown",
   "metadata": {},
   "source": [
    "### 实例化Dog()类"
   ]
  },
  {
   "cell_type": "code",
   "execution_count": null,
   "metadata": {},
   "outputs": [],
   "source": [
    "class Dog():\n",
    "    \"\"\"模拟小狗的一次尝试\"\"\"\n",
    "    \n",
    "    def __init__(self, name, age):\n",
    "        \"\"\"初始化属性name和age\"\"\"\n",
    "        self.name = name\n",
    "        self.age = age\n",
    "        \n",
    "    def sit(self):\n",
    "        \"\"\"模拟小狗坐下行为\"\"\"\n",
    "        print(self.name.title() + ' is now sitting.')\n",
    "        \n",
    "    def roll_over(self):\n",
    "        \"\"\"模拟小狗打滚行为\"\"\"\n",
    "        print(self.name.title() + 'roll over.')\n",
    "\n",
    "# 1.对Dog()类进行实例化,访问属性：\n",
    "# __init__()并未显式地包含return语句，但Python自动返回一个表示这条小狗的实例。\n",
    "my_dog = Dog('wille', 6)\n",
    "print(\"My dog's name is \" + my_dog.name.title() + '.')  #要访问实例的属性，可使用句点表示法my_dog.name\n",
    "print(\"My dog's age is \" + str(my_dog.age) + '.')\n",
    "\n",
    "# 2.对Dog()类进行实例化,调用方法：\n",
    "my_dog.sit()\n",
    "my_dog.roll_over()\n",
    "\n",
    "# 3.创建多个实例：\n",
    "my_dog = Dog('wille', 6)  #就算我们给第二条小狗指定同样的名字和年龄， Python依然会根据Dog类创建另一个实例。\n",
    "your_dog = Dog('lucy', 5)\n",
    "\n",
    "print(\"My dog's name is \" + my_dog.name.title() + \".\")\n",
    "print(\"My dog is \" + str(my_dog.age) + \" years old.\")\n",
    "my_dog.sit()\n",
    "\n",
    "print(\"\\nYour dog's name is \" + your_dog.name.title() + \".\")\n",
    "print(\"Your dog is \" + str(your_dog.age) + \" years old.\")\n",
    "your_dog.sit()\n"
   ]
  },
  {
   "cell_type": "markdown",
   "metadata": {},
   "source": [
    "## 使用类和实例"
   ]
  },
  {
   "cell_type": "markdown",
   "metadata": {},
   "source": [
    "### 给属性指定默认值"
   ]
  },
  {
   "cell_type": "markdown",
   "metadata": {},
   "source": [
    "**类中的每个属性都必须有初始值，哪怕这个值是0或空字符串。在有些情况下，如设置默认值时，在方法__init__()内指定这种初始值是可行的；如果你对某个属性这样做了，就无需包含为它提供初始值的形参。**"
   ]
  },
  {
   "cell_type": "code",
   "execution_count": null,
   "metadata": {},
   "outputs": [],
   "source": [
    "class Car():\n",
    "    \n",
    "    def __init__(self, make, model, year):\n",
    "        self.make = make\n",
    "        self.model = model\n",
    "        self.year = year\n",
    "        self.odometer_reading = 0   #odometer_reading属性包含了默认值，因此该形参无需在__init__()函数中出现\n",
    "        \n",
    "    def get_descriptive_name(self):\n",
    "        \"\"\"返回整洁的描述性信息\"\"\"\n",
    "        long_name = str(self.year) + ' ' + self.make + ' ' + self.model\n",
    "        return long_name.title()    #设置返回值\n",
    "    \n",
    "    def read_odometer(self):\n",
    "        print(\"This car has \" + str(self.odometer_reading) + \" miles on it.\")\n",
    "        \n",
    "my_new_car = Car('audi', 'a4', 2016)\n",
    "print(my_new_car.get_descriptive_name())\n",
    "my_new_car.read_odometer()\n"
   ]
  },
  {
   "cell_type": "markdown",
   "metadata": {},
   "source": [
    "### 修改属性值"
   ]
  },
  {
   "cell_type": "markdown",
   "metadata": {},
   "source": [
    "**1.直接修改属性的值**"
   ]
  },
  {
   "cell_type": "code",
   "execution_count": null,
   "metadata": {},
   "outputs": [],
   "source": [
    "# 1.直接修改属性的值\n",
    "my_new_car = Car('audi', 'a4', '2016')\n",
    "my_new_car.odometer_reading = 23\n",
    "my_new_car.read_odometer()\n"
   ]
  },
  {
   "cell_type": "markdown",
   "metadata": {},
   "source": [
    " **2.通过方法修改属性值**"
   ]
  },
  {
   "cell_type": "code",
   "execution_count": null,
   "metadata": {},
   "outputs": [],
   "source": [
    "# 2.通过方法修改属性值\n",
    "class Car():\n",
    "    \n",
    "    def __init__(self, make, model, year):\n",
    "        self.make = make\n",
    "        self.model = model\n",
    "        self.year = year\n",
    "        self.odometer_reading = 0   #odometer_reading属性包含了默认值，因此该形参无需在__init__()函数中出现\n",
    "        \n",
    "    def get_descriptive_name(self):\n",
    "        \"\"\"返回整洁的描述性信息\"\"\"\n",
    "        long_name = str(self.year) + ' ' + self.make + ' ' + self.model\n",
    "        return long_name.title()    #设置返回值\n",
    "    \n",
    "    def read_odometer(self):\n",
    "        print(\"This car has \" + str(self.odometer_reading) + \" miles on it.\")\n",
    "     \n",
    "    # 通过update_odometer()方法修改属性值\n",
    "    def update_odometer(self, miles):  #由于该方法需要输入修改的里程所以除了self还需要形参miles\n",
    "        self.odometer_reading = miles\n",
    "                \n",
    "my_new_car = Car('audi', 'a4', 2016)\n",
    "my_new_car.update_odometer(33)\n",
    "my_new_car.read_odometer()\n",
    "    "
   ]
  },
  {
   "cell_type": "markdown",
   "metadata": {},
   "source": [
    "**3.可对方法update_odometer()进行扩展，使其在修改里程表读数时做些额外的工作。下面来添加一些逻辑，禁止任何人将里程表读数往回调：**"
   ]
  },
  {
   "cell_type": "code",
   "execution_count": null,
   "metadata": {},
   "outputs": [],
   "source": [
    "class Car():\n",
    "    \n",
    "    def __init__(self, make, model, year):\n",
    "        self.make = make\n",
    "        self.model = model\n",
    "        self.year = year\n",
    "        self.odometer_reading = 0   \n",
    "        \n",
    "    def get_descriptive_name(self):\n",
    "        \"\"\"返回整洁的描述性信息\"\"\"\n",
    "        long_name = str(self.year) + ' ' + self.make + ' ' + self.model\n",
    "        return long_name.title()    \n",
    "    \n",
    "    def read_odometer(self):\n",
    "        print(\"This car has \" + str(self.odometer_reading) + \" miles on it.\")\n",
    "    \n",
    "    def update_odometer(self, miles):  \n",
    "        \"\"\"\n",
    "        将里程表读数设置为指定的值\n",
    "        禁止将里程表读数往回调\n",
    "        \"\"\"\n",
    "        if miles >= self.odometer_reading:   #阻止里程表回改\n",
    "            self.odometer_reading = miles\n",
    "        else:\n",
    "            print(\"You can't roll back the odometer.\")\n",
    "            \n",
    "    def increment_odometer(self, miles_increment):\n",
    "        if miles_increment >= 0:\n",
    "            self.odometer_reading += miles_increment   #增加一个行驶里程\n",
    "        else:\n",
    "            print(\"You can't roll back the odometer.\")\n",
    "            "
   ]
  },
  {
   "cell_type": "markdown",
   "metadata": {},
   "source": [
    "## 继承"
   ]
  },
  {
   "cell_type": "markdown",
   "metadata": {},
   "source": [
    "**编写类时，并非总是要从空白开始。如果你要编写的类是另一个现成类的特殊版本，可使用继承。一个类继承另一个类时，它将自动获得另一个类的所有属性和方法；原有的类称为父类，而新类称为子类。子类继承了其父类的所有属性和方法，同时还可以定义自己的属性和方法。**"
   ]
  },
  {
   "cell_type": "markdown",
   "metadata": {},
   "source": [
    "### 继承示例"
   ]
  },
  {
   "cell_type": "markdown",
   "metadata": {},
   "source": [
    "**创建子类时，父类必须包含在当前文件中，且位于子类前面。**"
   ]
  },
  {
   "cell_type": "code",
   "execution_count": null,
   "metadata": {},
   "outputs": [],
   "source": [
    "class Car():\n",
    "    \n",
    "    def __init__(self, make, model, year):\n",
    "        self.make = make\n",
    "        self.model = model\n",
    "        self.year = year\n",
    "        self.odometer_reading = 0   \n",
    "        \n",
    "    def get_descriptive_name(self):\n",
    "        long_name = str(self.year) + ' ' + self.make + ' ' + self.model\n",
    "        return long_name.title()    \n",
    "    \n",
    "    def read_odometer(self):\n",
    "        print(\"This car has \" + str(self.odometer_reading) + \" miles on it.\")\n",
    "    \n",
    "    def update_odometer(self, miles):  \n",
    "        if miles >= self.odometer_reading:   \n",
    "            self.odometer_reading = miles\n",
    "        else:\n",
    "            print(\"You can't roll back the odometer.\")\n",
    "            \n",
    "    def increment_odometer(self, miles_increment):\n",
    "        if miles_increment >= 0:\n",
    "            self.odometer_reading += miles_increment   \n",
    "        else:\n",
    "            print(\"You can't roll back the odometer.\")\n",
    "            \n",
    "\n",
    "class ElectricCar(Car):   #类名的（）中填入父类名，表示继承自哪一个父类\n",
    "    \n",
    "    def __init__(self, make, model, year):    #方法__init__()接受创建Car（Car是父类）实例所需的信息\n",
    "        \"\"\"初始化父类属性\"\"\"\n",
    "        super().__init__(make, model, year)  #处的super()是一个特殊函数，帮助Python将父类和子类关联起来\n",
    "        \n",
    "my_tesla = ElectricCar('tesla', 'model s', 2016)\n",
    "print(my_tesla.get_descriptive_name())\n"
   ]
  },
  {
   "cell_type": "markdown",
   "metadata": {},
   "source": [
    "### 给子类定义属性和方法"
   ]
  },
  {
   "cell_type": "code",
   "execution_count": null,
   "metadata": {},
   "outputs": [],
   "source": [
    "class Car():\n",
    "    \n",
    "    def __init__(self, make, model, year):\n",
    "        self.make = make\n",
    "        self.model = model\n",
    "        self.year = year\n",
    "        self.odometer_reading = 0   \n",
    "        \n",
    "    def get_descriptive_name(self):\n",
    "        long_name = str(self.year) + ' ' + self.make + ' ' + self.model\n",
    "        return long_name.title()    \n",
    "    \n",
    "    def read_odometer(self):\n",
    "        print(\"This car has \" + str(self.odometer_reading) + \" miles on it.\")\n",
    "    \n",
    "    def update_odometer(self, miles):  \n",
    "        if miles >= self.odometer_reading:   \n",
    "            self.odometer_reading = miles\n",
    "        else:\n",
    "            print(\"You can't roll back the odometer.\")\n",
    "            \n",
    "    def increment_odometer(self, miles_increment):\n",
    "        if miles_increment >= 0:\n",
    "            self.odometer_reading += miles_increment   \n",
    "        else:\n",
    "            print(\"You can't roll back the odometer.\")\n",
    "            \n",
    "\n",
    "class ElectricCar(Car):   #类名的（）中填入父类名，表示继承自哪一个父类\n",
    "    \n",
    "    #创建子类的实例时， Python首先需要完成的任务是给父类的所有属性赋值\n",
    "    def __init__(self, make, model, year):    #方法__init__()接受创建Car（Car是父类）实例所需的信息\n",
    "        \"\"\"初始化父类属性\"\"\"\n",
    "        super().__init__(make, model, year)   #处的super()是一个特殊函数，帮助Python将父类和子类关联起来\n",
    "        self.battery_size = 70               #初始化子类中的新增属性\n",
    "        \n",
    "    def describe_battery(self):              #定义子类中新增方法\n",
    "        print(\"This car has a \" + str(self.battery_size) + \"-kWh battery.\")\n",
    "\n",
    "# 实例化\n",
    "my_tesla = ElectricCar('tesla', 'model s', 2016)\n",
    "print(my_tesla.get_descriptive_name())\n",
    "my_tesla.describe_battery()\n"
   ]
  },
  {
   "cell_type": "markdown",
   "metadata": {},
   "source": [
    "### 重写父类的方法（方法重载？）"
   ]
  },
  {
   "cell_type": "markdown",
   "metadata": {},
   "source": [
    "**假设Car类有一个名为fill_gas_tank()的方法，它对全电动汽车来说毫无意义，因此你可能想重写它，示例如下：**"
   ]
  },
  {
   "cell_type": "code",
   "execution_count": null,
   "metadata": {},
   "outputs": [],
   "source": [
    "class Car():\n",
    "    \n",
    "    def __init__(self, make, model, year):\n",
    "        self.make = make\n",
    "        self.model = model\n",
    "        self.year = year\n",
    "        self.odometer_reading = 0   \n",
    "        self.gas_tank_vol = 0\n",
    "        \n",
    "    def get_descriptive_name(self):\n",
    "        long_name = str(self.year) + ' ' + self.make + ' ' + self.model\n",
    "        return long_name.title()    \n",
    "    \n",
    "    def read_odometer(self):\n",
    "        print(\"This car has \" + str(self.odometer_reading) + \" miles on it.\")\n",
    "    \n",
    "    def update_odometer(self, miles):  \n",
    "        if miles >= self.odometer_reading:   \n",
    "            self.odometer_reading = miles\n",
    "        else:\n",
    "            print(\"You can't roll back the odometer.\")\n",
    "            \n",
    "    def increment_odometer(self, miles_increment):\n",
    "        if miles_increment >= 0:\n",
    "            self.odometer_reading += miles_increment   \n",
    "        else:\n",
    "            print(\"You can't roll back the odometer.\")\n",
    "    \n",
    "    # 在Car()类中添加新方法gas_tank表明油箱容量\n",
    "    def gas_tank(self, vol):\n",
    "        if vol < 0:\n",
    "            print(\"You can't chose the nrgative gas volumn.\")\n",
    "        else:\n",
    "            self.gas_tank_vol = vol            \n",
    "\n",
    "class ElectricCar(Car):   \n",
    "    \n",
    "    def __init__(self, make, model, year):    \n",
    "        \"\"\"初始化父类属性\"\"\"\n",
    "        super().__init__(make, model, year)   \n",
    "        self.battery_size = 70               \n",
    "        \n",
    "    def describe_battery(self):              \n",
    "        print(\"This car has a \" + str(self.battery_size) + \"-kWh battery.\")\n",
    "     \n",
    "    # 在子类中重写gas_tank()方法\n",
    "    # 给gas_tank方法中vol形参指定一个默认的参数，这样用户在gas_tank()方法括号中填入输入项时不会报错，不填也不会报错\n",
    "    def gas_tank(self, vol=0):\n",
    "        print(\"This electronic car does not have a gas tank.\")\n",
    "\n",
    "# 实例化\n",
    "my_tesla = ElectricCar('tesla', 'model s', 2016)\n",
    "print(my_tesla.get_descriptive_name())\n",
    "my_tesla.describe_battery()\n",
    "my_tesla.gas_tank(10)\n"
   ]
  },
  {
   "cell_type": "markdown",
   "metadata": {},
   "source": [
    "## 将实例用作属性"
   ]
  },
  {
   "cell_type": "code",
   "execution_count": null,
   "metadata": {},
   "outputs": [],
   "source": [
    "class Car():\n",
    "    \n",
    "    def __init__(self, make, model, year):\n",
    "        self.make = make\n",
    "        self.model = model\n",
    "        self.year = year\n",
    "        self.odometer_reading = 0   \n",
    "        \n",
    "    def get_descriptive_name(self):\n",
    "        long_name = str(self.year) + ' ' + self.make + ' ' + self.model\n",
    "        return long_name.title()    \n",
    "    \n",
    "    def read_odometer(self):\n",
    "        print(\"This car has \" + str(self.odometer_reading) + \" miles on it.\")\n",
    "    \n",
    "    def update_odometer(self, miles):  \n",
    "        if miles >= self.odometer_reading:   \n",
    "            self.odometer_reading = miles\n",
    "        else:\n",
    "            print(\"You can't roll back the odometer.\")\n",
    "          \n",
    "    def increment_odometer(self, miles_increment):\n",
    "        if miles_increment >= 0:\n",
    "            self.odometer_reading += miles_increment   \n",
    "        else:\n",
    "            print(\"You can't roll back the odometer.\")\n",
    "\n",
    "            \n",
    "# 定义类Battery()作为ElectricCar()类的属性\n",
    "class Battery():\n",
    "    \n",
    "    def __init__(self): \n",
    "        self.battery_size = 70\n",
    "        \n",
    "    def describe_battery(self, size=''):\n",
    "        if size:\n",
    "            self.battery_size = size\n",
    "        print(\"This car has a \" + str(self.battery_size) + \"-kWh battery.\")\n",
    "        \n",
    "    def get_range(self):\n",
    "        if self.battery_size == 70:\n",
    "            range = 240\n",
    "        else:\n",
    "            range = (self.battery_size - 75)*1 + 240\n",
    "        msg = \"This car can go approximately \" + str(range)\n",
    "        msg += \" miles on full range.\"\n",
    "        print(msg)\n",
    "\n",
    "        \n",
    "class ElectricCar(Car):   \n",
    "    \n",
    "    def __init__(self, make, model, year):    \n",
    "        \"\"\"初始化父类属性\"\"\"\n",
    "        super().__init__(make, model, year)   \n",
    "        self.battery = Battery()\n",
    "        \n",
    "# step1.实例化\n",
    "my_tesla = ElectricCar('tesla', 'model s', '2010')\n",
    "\n",
    "# step2.在step1实例化时，将执行ElectricCar()类中的 self.battery = Battery()语句。\n",
    "#       该语句将Battery()类实例化，并将该实例命名为self.battery，也即my_tesla.battery。\n",
    "#       这时根据实例调用方法的规则可知，若要使用Battrey()类中定义的方法，调用语法为：\n",
    "#       my_tesla.battery.describe_battery();\n",
    "my_tesla.battery.describe_battery(200)  \n",
    "my_tesla.battery.get_range()\n"
   ]
  },
  {
   "cell_type": "markdown",
   "metadata": {},
   "source": [
    "## 导入类"
   ]
  },
  {
   "cell_type": "markdown",
   "metadata": {},
   "source": [
    "**随着你不断地给类添加功能，文件可能变得很长，即便你妥善地使用了继承亦如此。为遵循\n",
    "Python的总体理念，应让文件尽可能整洁。为在这方面提供帮助， Python允许你将类存储在模块\n",
    "中，然后在主程序中导入所需的模块。**"
   ]
  },
  {
   "cell_type": "markdown",
   "metadata": {},
   "source": [
    "### 导入单个类"
   ]
  },
  {
   "cell_type": "markdown",
   "metadata": {},
   "source": [
    "**step1.将Car()类写入car.py模块：**"
   ]
  },
  {
   "cell_type": "code",
   "execution_count": null,
   "metadata": {},
   "outputs": [],
   "source": [
    "%%writefile car.py\n",
    "\n",
    "\"\"\"一个可用于表示汽车的类\"\"\"\n",
    "class Car():\n",
    "    \n",
    "    def __init__(self, make, model, year):\n",
    "        self.make = make\n",
    "        self.model = model\n",
    "        self.year = year\n",
    "        self.odometer_reading = 0   \n",
    "        \n",
    "    def get_descriptive_name(self):\n",
    "        long_name = str(self.year) + ' ' + self.make + ' ' + self.model\n",
    "        return long_name.title()    \n",
    "    \n",
    "    def read_odometer(self):\n",
    "        print(\"This car has \" + str(self.odometer_reading) + \" miles on it.\")\n",
    "    \n",
    "    def update_odometer(self, miles):  \n",
    "        if miles >= self.odometer_reading:   \n",
    "            self.odometer_reading = miles\n",
    "        else:\n",
    "            print(\"You can't roll back the odometer.\")\n",
    "          \n",
    "    def increment_odometer(self, miles_increment):\n",
    "        if miles_increment >= 0:\n",
    "            self.odometer_reading += miles_increment   \n",
    "        else:\n",
    "            print(\"You can't roll back the odometer.\")\n"
   ]
  },
  {
   "cell_type": "markdown",
   "metadata": {},
   "source": [
    "**step2.调用car.py模块中的自定义类Car()：**"
   ]
  },
  {
   "cell_type": "code",
   "execution_count": null,
   "metadata": {},
   "outputs": [],
   "source": [
    "from car import Car  #import语句让Python打开模块car，并导入其中的Car类\n",
    "\n",
    "my_new_car = Car('audi', 'a4', 2016)\n",
    "print(my_new_car.get_descriptive_name())\n"
   ]
  },
  {
   "cell_type": "markdown",
   "metadata": {},
   "source": [
    "### 在一个模块中存储多个类"
   ]
  },
  {
   "cell_type": "markdown",
   "metadata": {},
   "source": [
    "**将多个类储存在模块car.py模块中**"
   ]
  },
  {
   "cell_type": "code",
   "execution_count": null,
   "metadata": {},
   "outputs": [],
   "source": [
    "%%writefile car.py\n",
    "\n",
    "\"\"\"覆盖上一个car.py文件\"\"\"\n",
    "class Car():\n",
    "    \n",
    "    def __init__(self, make, model, year):\n",
    "        self.make = make\n",
    "        self.model = model\n",
    "        self.year = year\n",
    "        self.odometer_reading = 0   \n",
    "        \n",
    "    def get_descriptive_name(self):\n",
    "        long_name = str(self.year) + ' ' + self.make + ' ' + self.model\n",
    "        return long_name.title()    \n",
    "    \n",
    "    def read_odometer(self):\n",
    "        print(\"This car has \" + str(self.odometer_reading) + \" miles on it.\")\n",
    "    \n",
    "    def update_odometer(self, miles):  \n",
    "        if miles >= self.odometer_reading:   \n",
    "            self.odometer_reading = miles\n",
    "        else:\n",
    "            print(\"You can't roll back the odometer.\")\n",
    "          \n",
    "    def increment_odometer(self, miles_increment):\n",
    "        if miles_increment >= 0:\n",
    "            self.odometer_reading += miles_increment   \n",
    "        else:\n",
    "            print(\"You can't roll back the odometer.\")\n",
    "\n",
    "            \n",
    "# 定义类Battery()作为ElectricCar()类的属性\n",
    "class Battery():\n",
    "    \n",
    "    def __init__(self): \n",
    "        self.battery_size = 70\n",
    "        \n",
    "    def describe_battery(self, size=''):\n",
    "        if size:\n",
    "            self.battery_size = size\n",
    "        print(\"This car has a \" + str(self.battery_size) + \"-kWh battery.\")\n",
    "        \n",
    "    def get_range(self):\n",
    "        if self.battery_size == 70:\n",
    "            range = 240\n",
    "        else:\n",
    "            range = (self.battery_size - 75)*1 + 240\n",
    "        msg = \"This car can go approximately \" + str(range)\n",
    "        msg += \" miles on full range.\"\n",
    "        print(msg)\n",
    "\n",
    "        \n",
    "class ElectricCar(Car):   \n",
    "    \n",
    "    def __init__(self, make, model, year):    \n",
    "        \"\"\"初始化父类属性\"\"\"\n",
    "        super().__init__(make, model, year)   \n",
    "        self.battery = Battery()\n"
   ]
  },
  {
   "cell_type": "code",
   "execution_count": null,
   "metadata": {},
   "outputs": [],
   "source": [
    "import car\n",
    "\n",
    "my_tesla = ElectricCar('tesla', 'model s', 2016)\n",
    "print(my_tesla.get_descriptive_name())\n",
    "my_tesla.describe_battery()\n",
    "my_tesla.get_range()\n"
   ]
  },
  {
   "cell_type": "markdown",
   "metadata": {},
   "source": [
    "### 在一个模块中导入另一个模块"
   ]
  },
  {
   "cell_type": "markdown",
   "metadata": {},
   "source": [
    "### 类编码风格"
   ]
  },
  {
   "cell_type": "markdown",
   "metadata": {},
   "source": [
    "**类名应采用驼峰命名法，即将类名中的每个单词的首字母都大写，而不使用下划线。实例名\n",
    "和模块名都采用小写格式，并在单词之间加上下划线。\n",
    "对于每个类，都应紧跟在类定义后面包含一个文档字符串。这种文档字符串简要地描述类的\n",
    "功能，并遵循编写函数的文档字符串时采用的格式约定。每个模块也都应包含一个文档字符串，\n",
    "对其中的类可用于做什么进行描述。\n",
    "可使用空行来组织代码，但不要滥用。在类中，可使用一个空行来分隔方法；而在模块中，\n",
    "可使用两个空行来分隔类。\n",
    "需要同时导入标准库中的模块和你编写的模块时，先编写导入标准库模块的import语句，再\n",
    "添加一个空行，然后编写导入你自己编写的模块的import语句。在包含多条import语句的程序中，\n",
    "这种做法让人更容易明白程序使用的各个模块都来自何方。**"
   ]
  },
  {
   "cell_type": "markdown",
   "metadata": {},
   "source": [
    "# 文件读写"
   ]
  },
  {
   "cell_type": "markdown",
   "metadata": {},
   "source": [
    "## 从文件中读取数据"
   ]
  },
  {
   "cell_type": "markdown",
   "metadata": {},
   "source": [
    "### 读取整个文件"
   ]
  },
  {
   "cell_type": "code",
   "execution_count": null,
   "metadata": {},
   "outputs": [],
   "source": [
    "# 在这里，open('pi_digits.txt')返回一个表示文件pi_digits.txt的对象；Python将这个对象存储在我们将在后面使用的变量中；\n",
    "# 关键字with在不再需要访问文件后将其关闭，你只管打开文件，并在需要时使用它， Python自会在合适的时候自动将其关闭；\n",
    "with open('pi_digits.txt') as fo:     #fo为返回的pi_digits.txt文件的对象\n",
    "    contents = fo.read()       #我们使用方法read()读取对象fo全部内容，并将内容储存在变量contents中\n",
    "    print(contents.rstrip())   # rstrip()函数可以处理最后一行多出的空格\n",
    "    "
   ]
  },
  {
   "cell_type": "markdown",
   "metadata": {},
   "source": [
    "**按照完整路径打开文件(文件储存的相对路径和绝对路径)：**"
   ]
  },
  {
   "cell_type": "code",
   "execution_count": null,
   "metadata": {},
   "outputs": [],
   "source": [
    "file_path = 'D:\\PythonDir\\PythonLearn\\Python编程入门到实践\\《Python编程：从入门到实践》源代码文件\\chapter_10\\pi_digits.txt'\n",
    "with open(file_path) as fo:\n",
    "    co = fo.read()\n",
    "    print(co.rstrip())\n",
    "    "
   ]
  },
  {
   "cell_type": "markdown",
   "metadata": {},
   "source": [
    "### 逐行读取文件"
   ]
  },
  {
   "cell_type": "code",
   "execution_count": null,
   "metadata": {},
   "outputs": [],
   "source": [
    "file_name = 'pi_digits.txt'\n",
    "with open(file_name) as fo:\n",
    "    for line in fo:   #不一定需要命名为line\n",
    "        print(line)\n",
    "        "
   ]
  },
  {
   "cell_type": "markdown",
   "metadata": {},
   "source": [
    "**为何会出现这些空白行呢？因为在这个文件中，每行的末尾都有一个看不见的换行符，而\n",
    "print语句也会加上一个换行符，因此每行末尾都有两个换行符：一个来自文件，另一个来自print\n",
    "语句。要消除这些多余的空白行，可在print语句中使用rstrip()：**"
   ]
  },
  {
   "cell_type": "code",
   "execution_count": null,
   "metadata": {},
   "outputs": [],
   "source": [
    "file_name = 'pi_digits.txt'\n",
    "with open(file_name) as fo:\n",
    "    for line in fo:   #不一定需要命名为line\n",
    "        print(line.rstrip())\n",
    "        "
   ]
  },
  {
   "cell_type": "markdown",
   "metadata": {},
   "source": [
    "## 在with代码块外使用文件内容"
   ]
  },
  {
   "cell_type": "markdown",
   "metadata": {},
   "source": [
    "**使用关键字with时， open()返回的文件对象只在with代码块内可用。如果要在with代码块外\n",
    "访问文件的内容，可在with代码块内将文件的各行存储在一个列表中，并在with代码块外使用该\n",
    "列表：你可以立即处理文件的各个部分，也可推迟到程序后面再处理。**"
   ]
  },
  {
   "cell_type": "code",
   "execution_count": null,
   "metadata": {},
   "outputs": [],
   "source": [
    "file_path = 'pi_digits.txt'\n",
    "\n",
    "with open(file_path) as fo:\n",
    "    lines = fo.readlines()   #方法readlines()从文件中读取每一行，并将其存储在一个列表lines中，这样可在with外使用\n",
    "\n",
    "print(lines)\n",
    "\n",
    "for line in lines:\n",
    "    print(line.rstrip())\n",
    "    "
   ]
  },
  {
   "cell_type": "markdown",
   "metadata": {},
   "source": [
    "**使用文件内容实例2：**"
   ]
  },
  {
   "cell_type": "code",
   "execution_count": null,
   "metadata": {},
   "outputs": [],
   "source": [
    "file_path = 'pi_digits.txt'\n",
    "with open(file_path) as fo:\n",
    "    lines = fo.readlines()\n",
    "    \n",
    "pi_string = ''\n",
    "for line in lines:\n",
    "    pi_string += line.strip()  #strip()函数用来移除空格\n",
    "\n",
    "print(pi_string)\n"
   ]
  },
  {
   "cell_type": "code",
   "execution_count": null,
   "metadata": {},
   "outputs": [],
   "source": [
    "file_path = 'D:\\PythonDir\\PythonLearn\\Python编程入门到实践\\《Python编程：从入门到实践》源代码文件\\\n",
    "             chapter_10\\pi_million_digits.txt'\n",
    "            \n",
    "with open(file_path) as fo:\n",
    "    lines = fo.readlines()\n",
    "\n",
    "pi_string = ''\n",
    "for line in lines:\n",
    "    pi_string += line\n",
    "    \n",
    "print(pi_string[:52])\n",
    "print(len(pi_string))\n"
   ]
  },
  {
   "cell_type": "markdown",
   "metadata": {},
   "source": [
    "## 写入文件"
   ]
  },
  {
   "cell_type": "markdown",
   "metadata": {},
   "source": [
    "**要将文本写入文件，你在调用open()时需要提供另一个实参open(filename, 'w')，告诉Python你要写入打开的文件打开文件时，可指定读取模\n",
    "式（'r'）、 写入模式（'w'）、 附加模式（'a'）或让你能够读取和写入文件的模式（'r+'）。如果\n",
    "你省略了模式实参， Python将以默认的只读模式打开文件。Python只能将字符串写入文本文件。要将数值数据存储到文本文件中，必须先使用函数\n",
    "str()将其转换为字符串格式。**"
   ]
  },
  {
   "cell_type": "code",
   "execution_count": null,
   "metadata": {},
   "outputs": [],
   "source": [
    "file_name = 'programming.txt'\n",
    "with open(file_name, 'w') as fo:\n",
    "    fo.write('I love programming.')\n",
    "    "
   ]
  },
  {
   "cell_type": "markdown",
   "metadata": {},
   "source": [
    "# 异常"
   ]
  },
  {
   "cell_type": "markdown",
   "metadata": {},
   "source": [
    "**try-except-else代码块的工作原理大致如下： Python尝试执行try代码块中的代码；只有可\n",
    "能引发异常的代码才需要放在try语句中。有时候，有一些仅在try代码块成功执行时才需要运行\n",
    "的代码；这些代码应放在else代码块中。 except代码块告诉Python，如果它尝试运行try代码块中\n",
    "的代码时引发了指定的异常，该怎么办。**"
   ]
  },
  {
   "cell_type": "code",
   "execution_count": null,
   "metadata": {},
   "outputs": [],
   "source": [
    "print(\"Entering two numbers, I'll divide them.\")\n",
    "print(\"Entering 'q' if you want to quit.\\n\")\n",
    "\n",
    "while True:\n",
    "    numerator = input(\"Input a numerator: \")\n",
    "    if numerator == 'q':\n",
    "        break\n",
    "    denominator = input(\"Input a denominator:\")\n",
    "    if denominator == 'q':\n",
    "        break\n",
    "    try:                                           #使用try-except-else代码结构\n",
    "        output = int(numerator)/int(denominator)\n",
    "    except ZeroDivisionError:\n",
    "        print(\"You can't use zero as a denominator.\")\n",
    "    else:\n",
    "        print(output)\n",
    "    "
   ]
  },
  {
   "cell_type": "markdown",
   "metadata": {},
   "source": [
    "**在前一个示例中，我们告诉用户有一个文件找不到。但并非每次捕获到异常时都需要告诉用\n",
    "户，有时候你希望程序在发生异常时一声不吭，就像什么都没有发生一样继续运行。要让程序在\n",
    "失败时一声不吭，可像通常那样编写try代码块，但在except代码块中明确地告诉Python什么都不\n",
    "要做。 Python有一个pass语句，可在代码块中使用它来让Python什么都不要做：**"
   ]
  },
  {
   "cell_type": "code",
   "execution_count": null,
   "metadata": {},
   "outputs": [],
   "source": []
  },
  {
   "cell_type": "markdown",
   "metadata": {},
   "source": [
    "# 分析文本"
   ]
  },
  {
   "cell_type": "markdown",
   "metadata": {},
   "source": [
    "**下面来提取童话Alice in Wonderland的文本，并尝试计算它包含多少个单词。我们将使用方\n",
    "法split()，方法split()以空格为分隔符将字符串分拆成多个部分,它根据一个字符串创建一个单词列表。**"
   ]
  },
  {
   "cell_type": "code",
   "execution_count": null,
   "metadata": {},
   "outputs": [],
   "source": [
    "filename = \"alice.txt\"\n",
    "with open(filename) as fo:\n",
    "    contents = fo.read()\n",
    "\n",
    "words = contents.split()\n",
    "num_words = len(words)\n",
    "print(str(num_words))\n"
   ]
  },
  {
   "cell_type": "markdown",
   "metadata": {},
   "source": [
    "# 存储数据"
   ]
  },
  {
   "cell_type": "markdown",
   "metadata": {},
   "source": [
    "**模块json让你能够将简单的Python数据结构转储到文件中，并在程序再次运行时加载该文件\n",
    "中的数据。**"
   ]
  },
  {
   "cell_type": "markdown",
   "metadata": {},
   "source": [
    "## 使用 json.dump()和 json.load()"
   ]
  },
  {
   "cell_type": "markdown",
   "metadata": {},
   "source": [
    "**我们来编写一个存储一组数字的简短程序，再编写一个将这些数字读取到内存中的程序。第\n",
    "一个程序将使用json.dump()来存储这组数字，而第二个程序将使用json.load()**"
   ]
  },
  {
   "cell_type": "markdown",
   "metadata": {},
   "source": [
    "函数json.dump()接受两个实参：要存储的数据以及可用于存储数据的文件对象"
   ]
  },
  {
   "cell_type": "code",
   "execution_count": null,
   "metadata": {},
   "outputs": [],
   "source": [
    "import json\n",
    "\n",
    "numbers = [2, 3, 5, 7, 11, 13]\n",
    "filename = 'number.json'     #储存文件的格式为.json文件格式\n",
    "\n",
    "with open(filename, 'w') as fo:\n",
    "    json.dump(numbers, fo)   #json.dump()函数接受两个实参，写入内容和文件对象\n",
    "    "
   ]
  },
  {
   "cell_type": "markdown",
   "metadata": {},
   "source": [
    "使用json.load()将这个列表读取到内存中"
   ]
  },
  {
   "cell_type": "code",
   "execution_count": null,
   "metadata": {},
   "outputs": [],
   "source": [
    "import json\n",
    "\n",
    "filename = \"number.json\"\n",
    "with open(filename) as fo:\n",
    "    num = json.load(fo)   #使用json.load()读取.json文件\n",
    "\n",
    "print(num)\n"
   ]
  },
  {
   "cell_type": "markdown",
   "metadata": {},
   "source": [
    "### 保存和读取用户生成的数据"
   ]
  },
  {
   "cell_type": "code",
   "execution_count": null,
   "metadata": {},
   "outputs": [],
   "source": [
    "username = input(\"What's your name? \")\n",
    "\n",
    "filename = 'username.json'\n",
    "with open(filename, 'w') as fo:\n",
    "    json.dump(username, fo)\n"
   ]
  },
  {
   "cell_type": "markdown",
   "metadata": {},
   "source": [
    "# 重构"
   ]
  },
  {
   "cell_type": "markdown",
   "metadata": {},
   "source": [
    "**你经常会遇到这样的情况：代码能够正确地运行，但可做进一步的改进——将代码划分为\n",
    "一系列完成具体工作的函数。这样的过程被称为重构**"
   ]
  },
  {
   "cell_type": "code",
   "execution_count": null,
   "metadata": {},
   "outputs": [],
   "source": []
  }
 ],
 "metadata": {
  "hide_input": false,
  "kernelspec": {
   "display_name": "Python 3",
   "language": "python",
   "name": "python3"
  },
  "language_info": {
   "codemirror_mode": {
    "name": "ipython",
    "version": 3
   },
   "file_extension": ".py",
   "mimetype": "text/x-python",
   "name": "python",
   "nbconvert_exporter": "python",
   "pygments_lexer": "ipython3",
   "version": "3.7.0"
  },
  "latex_envs": {
   "LaTeX_envs_menu_present": true,
   "autoclose": false,
   "autocomplete": true,
   "bibliofile": "biblio.bib",
   "cite_by": "apalike",
   "current_citInitial": 1,
   "eqLabelWithNumbers": true,
   "eqNumInitial": 1,
   "hotkeys": {
    "equation": "Ctrl-E",
    "itemize": "Ctrl-I"
   },
   "labels_anchors": false,
   "latex_user_defs": false,
   "report_style_numbering": false,
   "user_envs_cfg": false
  },
  "toc": {
   "base_numbering": 1,
   "nav_menu": {
    "height": "472.983px",
    "width": "285.994px"
   },
   "number_sections": true,
   "sideBar": true,
   "skip_h1_title": false,
   "title_cell": "Table of Contents",
   "title_sidebar": "Contents",
   "toc_cell": false,
   "toc_position": {
    "height": "calc(100% - 180px)",
    "left": "10px",
    "top": "150px",
    "width": "259.375px"
   },
   "toc_section_display": true,
   "toc_window_display": true
  },
  "varInspector": {
   "cols": {
    "lenName": 16,
    "lenType": 16,
    "lenVar": 40
   },
   "kernels_config": {
    "python": {
     "delete_cmd_postfix": "",
     "delete_cmd_prefix": "del ",
     "library": "var_list.py",
     "varRefreshCmd": "print(var_dic_list())"
    },
    "r": {
     "delete_cmd_postfix": ") ",
     "delete_cmd_prefix": "rm(",
     "library": "var_list.r",
     "varRefreshCmd": "cat(var_dic_list()) "
    }
   },
   "position": {
    "height": "459.667px",
    "left": "1070px",
    "right": "20px",
    "top": "120px",
    "width": "328.333px"
   },
   "types_to_exclude": [
    "module",
    "function",
    "builtin_function_or_method",
    "instance",
    "_Feature"
   ],
   "window_display": false
  }
 },
 "nbformat": 4,
 "nbformat_minor": 2
}
