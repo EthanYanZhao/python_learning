{
 "cells": [
  {
   "cell_type": "markdown",
   "metadata": {},
   "source": [
    "# matplotliab.pyplot折线与散点图"
   ]
  },
  {
   "cell_type": "markdown",
   "metadata": {},
   "source": [
    "## 绘制折线图"
   ]
  },
  {
   "cell_type": "code",
   "execution_count": null,
   "metadata": {},
   "outputs": [],
   "source": [
    "import matplotlib.pyplot as plt\n",
    "\n",
    "value = [1 ,2, 3, 4, 5]\n",
    "squres = [1, 4, 9, 16, 25]\n",
    "\n",
    "#1.设置线条粗细\n",
    "plt.plot(value, squres, linewidth = 5)   #不输入横轴坐标，matplotliab将默认从0开始递增，而不是从1开始递增\n",
    "\n",
    "#2.设置图标题\n",
    "#3.坐标轴加标签\n",
    "plt.title('Squre Numbers', fontsize = 24)\n",
    "plt.xlabel('Value', fontsize = 14)\n",
    "plt.ylabel('Squre of value', fontsize = 14)\n",
    "\n",
    "#4.设置刻度标记大小\n",
    "plt.tick_params(axis = 'both', labelsize = 14)\n",
    "\n",
    "#5.plt.show()打开matplotlib查看器，并显示绘制的图形\n",
    "plt.show()\n"
   ]
  },
  {
   "cell_type": "markdown",
   "metadata": {},
   "source": [
    "## 绘制散点图"
   ]
  },
  {
   "cell_type": "markdown",
   "metadata": {},
   "source": [
    "**(1):要绘制单个点，可使用函数scatter()，并向它传递一对x和y坐标，它将在指定位置绘制一\n",
    "个点**"
   ]
  },
  {
   "cell_type": "code",
   "execution_count": null,
   "metadata": {},
   "outputs": [],
   "source": [
    "import matplotlib.pyplot as plt\n",
    "\n",
    "plt.scatter(2, 4)\n",
    "plt.show()\n"
   ]
  },
  {
   "cell_type": "markdown",
   "metadata": {},
   "source": [
    "**(2):多个散点，进一步修饰**"
   ]
  },
  {
   "cell_type": "code",
   "execution_count": null,
   "metadata": {},
   "outputs": [],
   "source": [
    "import matplotlib.pyplot as plt\n",
    "\n",
    "# 1.采用list()+range()函数创建数字列表1~5\n",
    "x = list(range(1,6))\n",
    "y = [1, 4, 9, 16, 25]\n",
    "\n",
    "# 2.在scatter()中采用s参数设置点大小\n",
    "plt.scatter(x, y, s=200)\n",
    "\n",
    "# 3.设置图片标题，x-y轴标题，设置刻度大小\n",
    "plt.title(\"Square Numbers\", fontsize=24)\n",
    "plt.xlabel(\"Value\", fontsize=14)\n",
    "plt.ylabel(\"Square of Value\", fontsize=14)\n",
    "plt.tick_params(axis='both', which='major', labelsize=14)  #which表示设置什么参数？\n",
    "\n",
    "plt.show()\n"
   ]
  },
  {
   "cell_type": "markdown",
   "metadata": {},
   "source": [
    "## 自动计算数据"
   ]
  },
  {
   "cell_type": "markdown",
   "metadata": {},
   "source": [
    "**1.自动计算序列平方语法：y_value = \\[x\\*\\*2 for x in x_value\\]**\n",
    "\n",
    "**2.设置x,y轴坐标刻度范围语法：plt.axis(\\[0, 1100, 0, 1100000\\])**\n",
    "\n",
    "**3.删除数据点轮廓，防止连接在一起：在plt.scatter()中设置参数edgecolor = 'none'**\n",
    "\n",
    "**4.更改散点图中数据点的颜色：在plt.scatter()中设置参数c='red'或者采用元组指定向量进行混色c=(0, 0, 0.8)**\n",
    "\n",
    "**5.更改图片尺寸：plt.figure(figsize=(10, 6)) ; 函数figure()用于指定图表的宽度、高度、分辨率和背景色**"
   ]
  },
  {
   "cell_type": "code",
   "execution_count": null,
   "metadata": {},
   "outputs": [],
   "source": [
    "import matplotlib.pyplot as plt\n",
    "\n",
    "# 1.注意y_value的使用语法\n",
    "x_value = list(range(1,1001))\n",
    "y_value = [x**2 for x in x_value]\n",
    "\n",
    "# 2.删除数据点的黑色轮廓\n",
    "# 3.将散点设置为红色\n",
    "plt.scatter(x_value, y_value, edgecolor='none',c='red', s=40)\n",
    "\n",
    "# 4.设置x,y坐标轴的刻度范围\n",
    "plt.axis([0, 1100, 0, 1100000])\n",
    "\n",
    "# 5.figsize设定图片尺寸\n",
    "# 6.dpi设定图片像素\n",
    "plt.figure(dpi=2000, figsize=(10, 10))\n",
    "\n",
    "plt.show()\n"
   ]
  },
  {
   "cell_type": "markdown",
   "metadata": {},
   "source": [
    "## 使用颜色映射突出规律"
   ]
  },
  {
   "cell_type": "markdown",
   "metadata": {},
   "source": [
    "**1.颜色映射（colormap）是一系列颜色，它们从起始颜色渐变到结束颜色。在可视化中，颜色\n",
    "映射用于突出数据的规律，例如，你可能用较浅的颜色来显示较小的值，并使用较深的颜色来显\n",
    "示较大的值。模块pyplot内置了一组颜色映射;**\n",
    "\n",
    "**2.保存图片：plt.savefig('name.png', bbox_inches='tight')，bbox_inches='tight'命令用来裁掉图片白边；该命令不能和plt.show()同时使用；**"
   ]
  },
  {
   "cell_type": "code",
   "execution_count": null,
   "metadata": {
    "scrolled": true
   },
   "outputs": [],
   "source": [
    "import matplotlib.pyplot as plt\n",
    "\n",
    "x_values = list(range(1001))\n",
    "y_values = [x**2 for x in x_values]\n",
    "\n",
    "# 1.设置渐变颜色\n",
    "plt.scatter(x_values, y_values, c=y_values, cmap=plt.cm.Blues,\n",
    "           edgecolor='none', s=40)\n",
    "\n",
    "# plt.show()\n",
    "# plt.savefig()命令存在就不能有plt.show()命令\n",
    "# 2.保存图片：bbox_inches='tight'命令用来裁掉图片白边\n",
    "plt.savefig('squre_plot.png', bbox_inches='tight') \n"
   ]
  },
  {
   "cell_type": "markdown",
   "metadata": {},
   "source": [
    "# Random Walk"
   ]
  },
  {
   "cell_type": "markdown",
   "metadata": {},
   "source": [
    "## 创建RandomWalk()类"
   ]
  },
  {
   "cell_type": "code",
   "execution_count": null,
   "metadata": {},
   "outputs": [],
   "source": [
    "%%writefile random_walk.py\n",
    "\"\"\"随机游走类\"\"\"\n",
    "from random import choice\n",
    "\n",
    "class RandomWalk():\n",
    "    \"\"\"生成一个随机游走类\"\"\"\n",
    "    \n",
    "    def __init__(self, nu = 5000):\n",
    "        #设置列表长度\n",
    "        self.nu = nu\n",
    "        #所有随机游走都始于(0,0)坐标\n",
    "        self.x_values = [0]\n",
    "        self.y_values = [0]\n",
    "        \n",
    "    def fill_walk(self):\n",
    "        \"\"\"计算随机漫步包含的所有点\"\"\"\n",
    "        \n",
    "        # 不断漫步，直到列表达到指定的长度\n",
    "        while len(self.x_values) < self.nu:\n",
    "            x_direction = choice([-1, 1])         #1.随机选择-1或者1，表示向左或者右\n",
    "            x_distance = choice([0, 1, 2, 3, 4])     #2.随机选择1~4作为在指定方向上行进的距离\n",
    "            x_step = x_direction*x_distance       #3.步长由距离和方向决定\n",
    "            \n",
    "            y_direction = choice([-1, 1])        \n",
    "            y_distance = choice([0, 1, 2, 3, 4])     \n",
    "            y_step = y_direction*y_distance     \n",
    "            \n",
    "            # 拒绝原地踏步,pyton中使用\"and\"和\"or\"检查多个条件\n",
    "            if x_step == 0 and y_step == 0:\n",
    "                continue\n",
    "        \n",
    "            # 使用索引[-1]定位最后一个x_values值\n",
    "            next_x = self.x_values[-1] + x_step\n",
    "            next_y = self.y_values[-1] + y_step\n",
    "        \n",
    "            self.x_values.append(next_x)\n",
    "            self.y_values.append(next_y)\n",
    "    "
   ]
  },
  {
   "cell_type": "markdown",
   "metadata": {},
   "source": [
    "## 绘制随机游走图"
   ]
  },
  {
   "cell_type": "code",
   "execution_count": null,
   "metadata": {},
   "outputs": [],
   "source": [
    "import matplotlib.pyplot as plt\n",
    "from random_walk import RandomWalk\n",
    "\n",
    "# import pdb: 该命令可以用来在jupyter notebook中进行调试\n",
    "# pdb.set_trace()\n",
    "my_rw = RandomWalk()\n",
    "my_rw.fill_walk()\n",
    "plt.scatter(my_rw.x_values, my_rw.y_values, s=1)\n",
    "\n",
    "# 1.隐藏x轴和y轴\n",
    "plt.axes().get_xaxis().set_visible(False)\n",
    "plt.axes().get_yaxis().set_visible(False)\n",
    "\n",
    "plt.show()\n"
   ]
  },
  {
   "cell_type": "markdown",
   "metadata": {},
   "source": [
    "# Paygal生成图形"
   ]
  },
  {
   "cell_type": "markdown",
   "metadata": {},
   "source": [
    "# CSV格式数据分析"
   ]
  },
  {
   "cell_type": "markdown",
   "metadata": {},
   "source": [
    "## CSV文件格式"
   ]
  },
  {
   "cell_type": "markdown",
   "metadata": {},
   "source": [
    "**要在文本文件中存储数据，最简单的方式是将数据作为一系列以逗号分隔的值（CSV）写入文件**"
   ]
  },
  {
   "cell_type": "markdown",
   "metadata": {},
   "source": [
    "### 分析CSV文件头"
   ]
  },
  {
   "cell_type": "markdown",
   "metadata": {},
   "source": [
    "**csv模块包含在Python标准库中，可用于分析CSV文件中的数据行，让我们能够快速提取感兴趣的值。**"
   ]
  },
  {
   "cell_type": "code",
   "execution_count": null,
   "metadata": {},
   "outputs": [],
   "source": [
    "import csv\n",
    "\n",
    "filename = 'sitka_weather_07-2014.csv'\n",
    "with open(filename) as f:\n",
    "    reader = csv.reader(f)   #我们调用csv.reader()，从而创建一个与该文件相关联的阅读器（reader）对象\n",
    "    head_row = next(reader)  #模块csv包含函数next()，调用它并将阅读器对象传递给它时，它将返回文件中的下一行\n",
    "    print(head_row)\n",
    "    "
   ]
  },
  {
   "cell_type": "markdown",
   "metadata": {},
   "source": [
    "### 打开文件头及其位置索引"
   ]
  },
  {
   "cell_type": "markdown",
   "metadata": {},
   "source": [
    "**(1):enumerator()函数**"
   ]
  },
  {
   "cell_type": "code",
   "execution_count": null,
   "metadata": {},
   "outputs": [],
   "source": [
    "import csv\n",
    "\n",
    "filename = 'sitka_weather_07-2014.csv'\n",
    "with open(filename) as f:\n",
    "    reader = csv.reader(f)   \n",
    "    head_row = next(reader)  \n",
    "\n",
    "# 1.采用enumerate()函数获取表头各列名称和对应的位置索引\n",
    "for index, column_header in enumerate(head_row):\n",
    "    print(index, column_header)\n",
    "    "
   ]
  },
  {
   "cell_type": "markdown",
   "metadata": {},
   "source": [
    "**(2):结合列索引逐行读取数据，从而得到某一列数据**\n",
    "\n",
    "**(3):从csv文件中读取最高气温后绘制成折线图**\n",
    "\n",
    "**(4):将x轴刻度转化为日期**\n",
    "\n",
    "**(5):从文件中读取最低温度绘制在同一张图中**\n",
    "\n",
    "**(6):在最高和最低气温线条之间填充颜色:plt.fill_between()**"
   ]
  },
  {
   "cell_type": "code",
   "execution_count": null,
   "metadata": {},
   "outputs": [],
   "source": [
    "import csv\n",
    "from datetime import datetime\n",
    "\n",
    "filename = 'sitka_weather_07-2014.csv'\n",
    "with open(filename) as f:\n",
    "    reader = csv.reader(f)   \n",
    "    head_row = next(reader)\n",
    "    \n",
    "    # 1.结合列索引逐行读取数据，从而得到某一列数据\n",
    "    # 2.获取某日最高气温存储在highs列表中\n",
    "    # 3.读取日期存储在dates列表中\n",
    "    # 4.以下3行代码必须放在with代码块中，否则离开with代码块reader关闭\n",
    "    highs, dates, lows = [], [], []\n",
    "    for row in reader:\n",
    "        high = int(row[1])   #将字符串转化为整数\n",
    "        highs.append(high)   #由上一个代码块得到的结果可知第0列为日期，第1列为最高气温，采用row[1]\n",
    "        \n",
    "        low = int(row[3])\n",
    "        lows.append(low)\n",
    "        \n",
    "        # 5.提取日期\n",
    "        date = datetime.strptime(row[0], '%Y-%m-%d')\n",
    "        dates.append(date)\n",
    "        \n",
    "print(highs)\n",
    "\n",
    "# 6.绘制最高气温折线图\n",
    "import matplotlib.pyplot as plt\n",
    "\n",
    "# 7.在同一幅图中绘制两条折线最高温度和最低温度\n",
    "plt.plot(dates, highs, color='red', linewidth = 0.4)\n",
    "plt.plot(dates, lows, color='blue', linewidth = 0.4)\n",
    "\n",
    "# 8.在最高和最低温度线之间填充颜色\n",
    "plt.fill_between(dates, highs, lows, facecolor='blue', alpha=0.1)\n",
    "plt.show()\n"
   ]
  },
  {
   "cell_type": "markdown",
   "metadata": {},
   "source": [
    "## 缺失值"
   ]
  },
  {
   "cell_type": "markdown",
   "metadata": {},
   "source": [
    "**1.文件death_valley_2014.csv文件中存在缺失值,处理缺失值方法如下：**\n",
    "\n",
    "**缺失值：没有记录2014年2月16日的数据，表示最高温度的字符串为空**"
   ]
  },
  {
   "cell_type": "code",
   "execution_count": null,
   "metadata": {},
   "outputs": [],
   "source": [
    "import csv\n",
    "import matplotlib.pyplot as plt\n",
    "from datetime import datetime\n",
    "\n",
    "filename = 'death_valley_2014.csv'\n",
    "with open(filename) as fo:\n",
    "    reader = csv.reader(fo)\n",
    "    head_line = next(reader)\n",
    "    \n",
    "    highs, lows, dates = [], [], []\n",
    "    for row in reader:\n",
    "        try:\n",
    "            high = int(row[1])\n",
    "            highs.append(high)\n",
    "        \n",
    "            low = int(row[3])\n",
    "            lows.append(low)\n",
    "        \n",
    "            date = datetime.strptime(row[0], '%Y-%m-%d')\n",
    "            dates.append(date)\n",
    "        except ValueError:\n",
    "            print(\"The some varibles don not have observations.\")\n",
    "        else:\n",
    "            plt.plot(dates, highs, c='red')\n",
    "        "
   ]
  },
  {
   "cell_type": "markdown",
   "metadata": {},
   "source": [
    "# 制作世界人口地图： JSON 格式数据"
   ]
  },
  {
   "cell_type": "markdown",
   "metadata": {},
   "source": [
    "**本节将下载JSON格式的人口数据，并使用json模块来处理它们。 Pygal提供了一个\n",
    "适合初学者使用的地图创建工具，你将使用它来对人口数据进行可视化，以探索全球人口的分布\n",
    "情况**"
   ]
  },
  {
   "cell_type": "markdown",
   "metadata": {},
   "source": [
    "**1.列印各个国家地区的2010年人口数：**"
   ]
  },
  {
   "cell_type": "code",
   "execution_count": null,
   "metadata": {},
   "outputs": [],
   "source": [
    "import json\n",
    "\n",
    "filename = 'population_data.json'\n",
    "with open(filename) as fo:\n",
    "    pop_data = json.load(fo)\n",
    "    \n",
    "for pop_dict in pop_data:\n",
    "    if pop_dict['Year'] == '2010':\n",
    "        country_name = pop_dict['Country Name']\n",
    "        population = int(float(pop_dict['Value'])) #float()返回一个浮点数，int()则舍去小数点后数字返回整数\n",
    "        print(country_name + ': ' + str(population))\n",
    "    "
   ]
  },
  {
   "cell_type": "markdown",
   "metadata": {},
   "source": [
    "**2.**"
   ]
  },
  {
   "cell_type": "code",
   "execution_count": null,
   "metadata": {},
   "outputs": [],
   "source": [
    "from pygal.i18n"
   ]
  },
  {
   "cell_type": "markdown",
   "metadata": {},
   "source": [
    "# 使用Web应用编程接口(API)"
   ]
  },
  {
   "cell_type": "markdown",
   "metadata": {},
   "source": [
    "**Web API是网站的一部分，用于与使用非常具体的URL请求特定信息的程序交互。这种请求称为API调用。请求的数据将以易于处理的格式（如JSON或CSV）返回。依赖于外部数据源的大多数应用程序都依赖于API调用，如集成社交媒体网站的应用程序;**\n",
    "\n",
    "**在本章中，我们将编写一个程序，它自动下载GitHub上星级最高的Python项目的信息，并对这些信息进行可视化。**"
   ]
  },
  {
   "cell_type": "markdown",
   "metadata": {},
   "source": [
    "## 处理API响应"
   ]
  },
  {
   "cell_type": "markdown",
   "metadata": {},
   "source": [
    "**下面来编写一个程序，它执行API调用并处理结果，找出GitHub上星级最高的Python项目：**"
   ]
  },
  {
   "cell_type": "code",
   "execution_count": null,
   "metadata": {},
   "outputs": [],
   "source": [
    "import requests\n",
    "import json\n",
    "\n",
    "# 1.执行API调用并储存响应 \n",
    "#   url存储API调用的URL\n",
    "url = 'https://api.github.com/search/repositories?q=language:python&sort=star'\n",
    "\n",
    "# 2.执行requests语句来执行调用，我们调用get()并将URL传递给它，再将响应对象存储在变量r中\n",
    "r = requests.get(url)\n",
    "\n",
    "# 3.响应对象包含一个名为status_code的属性，它让我们知道请求是否成功了（状态码200表示请求成功）\n",
    "print('Status code:', r.status_code)\n",
    "\n",
    "# 4.将API响应储存在一个变量中\n",
    "response_dict = r.json()\n",
    "\n",
    "# 5.将response_dict内容储存在名为“response_dictionary.json”文件中\n",
    "file_name = 'response_dictionary.json'\n",
    "with open(file_name, 'w') as fo:\n",
    "    json.dump(response_dict, fo)\n",
    "\n",
    "# 6.处理结果：返回的字典中有三个键'total_count', 'incomplete_results', 'items'；\n",
    "##  其中‘items’键对应的值是一个列表，而这个列表的元素又是字典，因而孙然看起来有很多\n",
    "##  内容，但一级字典的键只有三个；\n",
    "# 7.采用\".keys()\"方法获取键的名称\n",
    "print(response_dict.keys())\n",
    "\n",
    "# 8.打印总的仓库数\n",
    "print('Total Repositories: ', response_dict['total_count'])\n",
    "\n",
    "# 9.探索有关残仓库信息\n",
    "##  将键\"items\"对应的字典储存在变量“repo_dicts”中，items中的每一个字典都对应一个有关python仓库的信息\n",
    "repo_dicts = response_dict['items']\n",
    "\n",
    "# 10.使用len()函数查看items中储存了多少个字典\n",
    "print(\"Repositories returned:\", len(repo_dicts))\n",
    "\n",
    "# 11.研究items中第一个仓库的信息\n",
    "repo_dict = repo_dicts[0]  #提取第一个字典的信息\n",
    "print(\"\\nKeys:\", len(repo_dict))  #items中的第一个字典中储存有多少个键\n",
    "\n",
    "# 12.打印repo_dict中所有键的信息\n",
    "for key in repo_dict.keys():\n",
    "    print(key)\n",
    "\n",
    "# 13.打印打repo_dic字典中所存仓库的owner\n",
    "##   ower键所对应的值也是一个字典，所以该处用了两次引用键的方式\n",
    "print(\"Owner: \", repo_dict['owner']['login'])\n",
    "\n",
    "# 14.打印第一个仓库（repo_dict）的基本信息\n",
    "print(\"\\nSelected information about first repository:\")\n",
    "print('Name:', repo_dict['name'])\n",
    "print('Owner:', repo_dict['owner']['login'])\n",
    "print('Stars:', repo_dict['stargazers_count'])   #该仓库获得的星\n",
    "print('Repository:', repo_dict['html_url'])      #获得仓库地址URL\n",
    "print('Created:', repo_dict['created_at'])       #仓库创立时间\n",
    "print('Updated:', repo_dict['updated_at'])       #仓库更新时间\n",
    "print('Description:', repo_dict['description'])   #仓库描述\n"
   ]
  },
  {
   "cell_type": "markdown",
   "metadata": {},
   "source": [
    "## 可视化API获得的数据"
   ]
  },
  {
   "cell_type": "code",
   "execution_count": 1,
   "metadata": {
    "scrolled": true
   },
   "outputs": [],
   "source": [
    "import json\n",
    "import pygal\n",
    "from pygal.style import LightColorizedStyle as LCS, LightenStyle as LS\n",
    "\n",
    "# 1.从文件'response_dictionary.json'中导出数据\n",
    "fname = 'response_dictionary.json'\n",
    "with open(fname) as f:\n",
    "    response_dict = json.load(f)\n",
    "    \n",
    "repo_dicts = response_dict['items']\n",
    "names, plot_dicts = [], []\n",
    "\n",
    "for repo_dict in repo_dicts:\n",
    "    names.append(repo_dict['name'])\n",
    "    \n",
    "    # 仓库的描述可能为空，所以要增加一段判断代码，保证后面的chart.add()函数可正确执行\n",
    "    if repo_dict['description']:\n",
    "        plot_dict = {\n",
    "            'value': repo_dict['stargazers_count'],\n",
    "            'label': repo_dict['description'],\n",
    "            'xlink': repo_dict['html_url'],\n",
    "        }\n",
    "    else:\n",
    "        plot_dict = {\n",
    "            'value': repo_dict['stargazers_count'],\n",
    "            'label': 'none',\n",
    "            'xlink': repo_dict['html_url'],\n",
    "        }        \n",
    "    plot_dicts.append(plot_dict)\n",
    "                       \n",
    "# 2.可视化\n",
    "# 3.设置条形图的style,其中style是Bar()类的一个属性，但style属性本身是以一个类做属性\n",
    "my_style = LS('#333366', base_style=LCS) \n",
    "\n",
    "# 4.设置图片细节,采用pygal.Config()方法\n",
    "my_config = pygal.Config()        #创建了一个实例my_config\n",
    "my_config.x_label_rotation = 45   #修改该实例的属性\n",
    "my_config.show_legend = False\n",
    "my_config.title_font_size = 24\n",
    "my_config.label_font_size = 14\n",
    "my_config.major_label_font_size = 18\n",
    "my_config.truncate_label = 15\n",
    "my_config.show_y_guides = False    #show_y_guides设置为False，以隐藏图表中的水平线\n",
    "my_config.width = 1000\n",
    "\n",
    "chart = pygal.Bar(my_config, style=my_style)  # 关键词输入实参要放在后面\n",
    "chart.title = 'Most-Starred Python Projects on GitHub'\n",
    "chart.x_labels = names   \n",
    "\n",
    "# 5.加入需要显示的数据，该处条形图需要显示的数据为star数量\n",
    "chart.add('', plot_dicts)\n",
    "\n",
    "# 4.pygal储存文件,图片以网页形式储存\n",
    "chart.render_to_file('python_repos.svg') \n"
   ]
  },
  {
   "cell_type": "code",
   "execution_count": null,
   "metadata": {},
   "outputs": [],
   "source": []
  }
 ],
 "metadata": {
  "hide_input": false,
  "kernelspec": {
   "display_name": "Python 3",
   "language": "python",
   "name": "python3"
  },
  "language_info": {
   "codemirror_mode": {
    "name": "ipython",
    "version": 3
   },
   "file_extension": ".py",
   "mimetype": "text/x-python",
   "name": "python",
   "nbconvert_exporter": "python",
   "pygments_lexer": "ipython3",
   "version": "3.7.0"
  },
  "toc": {
   "base_numbering": 1,
   "nav_menu": {},
   "number_sections": true,
   "sideBar": true,
   "skip_h1_title": false,
   "title_cell": "Table of Contents",
   "title_sidebar": "Contents",
   "toc_cell": false,
   "toc_position": {},
   "toc_section_display": true,
   "toc_window_display": true
  },
  "varInspector": {
   "cols": {
    "lenName": 16,
    "lenType": 16,
    "lenVar": 40
   },
   "kernels_config": {
    "python": {
     "delete_cmd_postfix": "",
     "delete_cmd_prefix": "del ",
     "library": "var_list.py",
     "varRefreshCmd": "print(var_dic_list())"
    },
    "r": {
     "delete_cmd_postfix": ") ",
     "delete_cmd_prefix": "rm(",
     "library": "var_list.r",
     "varRefreshCmd": "cat(var_dic_list()) "
    }
   },
   "types_to_exclude": [
    "module",
    "function",
    "builtin_function_or_method",
    "instance",
    "_Feature"
   ],
   "window_display": false
  }
 },
 "nbformat": 4,
 "nbformat_minor": 2
}
