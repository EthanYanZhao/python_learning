{
 "cells": [
  {
   "cell_type": "code",
   "execution_count": null,
   "metadata": {},
   "outputs": [],
   "source": [
    "options(scipen=999)\n",
    "\n",
    "library(ggplot2)\n",
    "\n",
    "theme_set(theme_bw())\n",
    "data(\"midwest\", package = \"ggplot2\")\n",
    "     \n",
    "# midwest <- read.csv(\"http://goo.gl/G1K41K\")\n",
    "# Scatterplot\n",
    "gg <- ggplot(midwest, aes(x=area, y=poptotal)) +\n",
    "geom_point(aes(col=state, size=popdensity)) +\n",
    "geom_smooth(method=\"loess\", se=F) +\n",
    "xlim(c(0, 0.1)) +\n",
    "ylim(c(0, 500000)) +\n",
    "labs(subtitle=\"Area Vs Population\",\n",
    "y=\"Population\",\n",
    "x=\"Area\",\n",
    "title=\"Scatterplot\",\n",
    "caption = \"Source: midwest\")\n",
    "plot(gg)\n"
   ]
  }
 ],
 "metadata": {
  "hide_input": false,
  "kernelspec": {
   "display_name": "R",
   "language": "R",
   "name": "ir"
  },
  "language_info": {
   "codemirror_mode": "r",
   "file_extension": ".r",
   "mimetype": "text/x-r-source",
   "name": "R",
   "pygments_lexer": "r",
   "version": "3.6.2"
  },
  "toc": {
   "base_numbering": 1,
   "nav_menu": {},
   "number_sections": true,
   "sideBar": true,
   "skip_h1_title": false,
   "title_cell": "Table of Contents",
   "title_sidebar": "Contents",
   "toc_cell": false,
   "toc_position": {},
   "toc_section_display": true,
   "toc_window_display": false
  },
  "varInspector": {
   "cols": {
    "lenName": 16,
    "lenType": 16,
    "lenVar": 40
   },
   "kernels_config": {
    "python": {
     "delete_cmd_postfix": "",
     "delete_cmd_prefix": "del ",
     "library": "var_list.py",
     "varRefreshCmd": "print(var_dic_list())"
    },
    "r": {
     "delete_cmd_postfix": ") ",
     "delete_cmd_prefix": "rm(",
     "library": "var_list.r",
     "varRefreshCmd": "cat(var_dic_list()) "
    }
   },
   "types_to_exclude": [
    "module",
    "function",
    "builtin_function_or_method",
    "instance",
    "_Feature"
   ],
   "window_display": false
  }
 },
 "nbformat": 4,
 "nbformat_minor": 2
}
